{
  "nbformat": 4,
  "nbformat_minor": 0,
  "metadata": {
    "colab": {
      "name": "Cruise_Ship_toDo.ipynb",
      "provenance": [],
      "collapsed_sections": [],
      "toc_visible": true
    },
    "kernelspec": {
      "name": "python3",
      "display_name": "Python 3"
    }
  },
  "cells": [
    {
      "cell_type": "markdown",
      "metadata": {
        "id": "DHnpKLcboJZq",
        "colab_type": "text"
      },
      "source": [
        "## **Modelo de Regresión**\n",
        "El objetivo de este ejercicio es encontrar un modelo que permita predecir la tripulación requerida para un crucero.\n",
        "Utilizaremos \"Decisión Tree\" y \"random forest\" y necesitaremos transformar una columna del tipo string en factores (Categorización)\n",
        "\n",
        "https://scikit-learn.org/stable/modules/tree.html\n",
        "https://scikit-learn.org/stable/modules/generated/sklearn.ensemble.RandomForestClassifier.html"
      ]
    },
    {
      "cell_type": "markdown",
      "metadata": {
        "id": "M7xzTcVN-3nr",
        "colab_type": "text"
      },
      "source": [
        "Ayudas:\n",
        "1. ¿Como listar el tipo de datos de cada una de las columnas?\n",
        "for i in data.columns:\n",
        "  print(\"Columna {} tipo: {}\".format(i,data[i].dtype))\n",
        "\n",
        "2. ¿Como categorizar un conjunto de columnas?\n",
        "* hacemos una copia de resguardo\n",
        "label_X_train = X_train.copy()\n",
        "label_X_valid = X_valid.copy()\n",
        "\n",
        "* aplicamos label encoder a cada una de las columnas definidas en \"object_cols\". Las columnas se reemplazan en el conjunto de datos.\n",
        "\n",
        "label_encoder = LabelEncoder()\n",
        "object_cols = ['xxxx', 'yyyy']\n",
        "for col in object_cols:\n",
        "    label_X_train[col] = label_encoder.fit_transform(X_train[col])\n",
        "    label_X_valid[col] = label_encoder.transform(X_valid[col])\n"
      ]
    },
    {
      "cell_type": "code",
      "metadata": {
        "id": "7spIHKpmm8V5",
        "colab_type": "code",
        "colab": {}
      },
      "source": [
        "import pandas as pd\n",
        "from sklearn.ensemble import RandomForestRegressor\n",
        "from sklearn.metrics import mean_absolute_error\n",
        "from sklearn.model_selection import train_test_split\n",
        "from sklearn.tree import DecisionTreeRegressor\n",
        "from sklearn.preprocessing import LabelEncoder\n",
        "\n"
      ],
      "execution_count": 0,
      "outputs": []
    },
    {
      "cell_type": "markdown",
      "metadata": {
        "id": "ewjkVV_XpL3J",
        "colab_type": "text"
      },
      "source": [
        "## Lectura de datos y exploración"
      ]
    },
    {
      "cell_type": "markdown",
      "metadata": {
        "id": "sb_yfojaozWr",
        "colab_type": "text"
      },
      "source": [
        "Leer el fichero de datos "
      ]
    },
    {
      "cell_type": "code",
      "metadata": {
        "id": "vGXVwsmgTZbO",
        "colab_type": "code",
        "colab": {}
      },
      "source": [
        "file_path = <FILL>\n",
        "data = <FILL>"
      ],
      "execution_count": 0,
      "outputs": []
    },
    {
      "cell_type": "markdown",
      "metadata": {
        "id": "plmniYX2pvUu",
        "colab_type": "text"
      },
      "source": [
        "Listar las primeras filas del fichero para ver los datos"
      ]
    },
    {
      "cell_type": "code",
      "metadata": {
        "id": "msZ1la2yUWTl",
        "colab_type": "code",
        "outputId": "9afadf38-c550-46da-ae6c-ea5ac963b7de",
        "colab": {
          "base_uri": "https://localhost:8080/",
          "height": 204
        }
      },
      "source": [
        "<FILL>"
      ],
      "execution_count": 7,
      "outputs": [
        {
          "output_type": "execute_result",
          "data": {
            "text/html": [
              "<div>\n",
              "<style scoped>\n",
              "    .dataframe tbody tr th:only-of-type {\n",
              "        vertical-align: middle;\n",
              "    }\n",
              "\n",
              "    .dataframe tbody tr th {\n",
              "        vertical-align: top;\n",
              "    }\n",
              "\n",
              "    .dataframe thead th {\n",
              "        text-align: right;\n",
              "    }\n",
              "</style>\n",
              "<table border=\"1\" class=\"dataframe\">\n",
              "  <thead>\n",
              "    <tr style=\"text-align: right;\">\n",
              "      <th></th>\n",
              "      <th>Ship_name</th>\n",
              "      <th>Cruise_line</th>\n",
              "      <th>Age</th>\n",
              "      <th>Tonnage</th>\n",
              "      <th>passengers</th>\n",
              "      <th>length</th>\n",
              "      <th>cabins</th>\n",
              "      <th>passenger_density</th>\n",
              "      <th>crew</th>\n",
              "    </tr>\n",
              "  </thead>\n",
              "  <tbody>\n",
              "    <tr>\n",
              "      <th>0</th>\n",
              "      <td>Journey</td>\n",
              "      <td>Azamara</td>\n",
              "      <td>6</td>\n",
              "      <td>30.277</td>\n",
              "      <td>6.94</td>\n",
              "      <td>5.94</td>\n",
              "      <td>3.55</td>\n",
              "      <td>42.64</td>\n",
              "      <td>3.55</td>\n",
              "    </tr>\n",
              "    <tr>\n",
              "      <th>1</th>\n",
              "      <td>Quest</td>\n",
              "      <td>Azamara</td>\n",
              "      <td>6</td>\n",
              "      <td>30.277</td>\n",
              "      <td>6.94</td>\n",
              "      <td>5.94</td>\n",
              "      <td>3.55</td>\n",
              "      <td>42.64</td>\n",
              "      <td>3.55</td>\n",
              "    </tr>\n",
              "    <tr>\n",
              "      <th>2</th>\n",
              "      <td>Celebration</td>\n",
              "      <td>Carnival</td>\n",
              "      <td>26</td>\n",
              "      <td>47.262</td>\n",
              "      <td>14.86</td>\n",
              "      <td>7.22</td>\n",
              "      <td>7.43</td>\n",
              "      <td>31.80</td>\n",
              "      <td>6.70</td>\n",
              "    </tr>\n",
              "    <tr>\n",
              "      <th>3</th>\n",
              "      <td>Conquest</td>\n",
              "      <td>Carnival</td>\n",
              "      <td>11</td>\n",
              "      <td>110.000</td>\n",
              "      <td>29.74</td>\n",
              "      <td>9.53</td>\n",
              "      <td>14.88</td>\n",
              "      <td>36.99</td>\n",
              "      <td>19.10</td>\n",
              "    </tr>\n",
              "    <tr>\n",
              "      <th>4</th>\n",
              "      <td>Destiny</td>\n",
              "      <td>Carnival</td>\n",
              "      <td>17</td>\n",
              "      <td>101.353</td>\n",
              "      <td>26.42</td>\n",
              "      <td>8.92</td>\n",
              "      <td>13.21</td>\n",
              "      <td>38.36</td>\n",
              "      <td>10.00</td>\n",
              "    </tr>\n",
              "  </tbody>\n",
              "</table>\n",
              "</div>"
            ],
            "text/plain": [
              "     Ship_name Cruise_line  Age  ...  cabins  passenger_density   crew\n",
              "0      Journey     Azamara    6  ...    3.55              42.64   3.55\n",
              "1        Quest     Azamara    6  ...    3.55              42.64   3.55\n",
              "2  Celebration    Carnival   26  ...    7.43              31.80   6.70\n",
              "3     Conquest    Carnival   11  ...   14.88              36.99  19.10\n",
              "4      Destiny    Carnival   17  ...   13.21              38.36  10.00\n",
              "\n",
              "[5 rows x 9 columns]"
            ]
          },
          "metadata": {
            "tags": []
          },
          "execution_count": 7
        }
      ]
    },
    {
      "cell_type": "markdown",
      "metadata": {
        "id": "C497uuSrqEgs",
        "colab_type": "text"
      },
      "source": [
        "¿cuantas filas y columnas tienen los datos?\n"
      ]
    },
    {
      "cell_type": "code",
      "metadata": {
        "id": "VBaRrgh-qQx5",
        "colab_type": "code",
        "outputId": "e216de09-1ef5-4587-cf5a-cbe2e5c930dc",
        "colab": {
          "base_uri": "https://localhost:8080/",
          "height": 34
        }
      },
      "source": [
        "<FILL>"
      ],
      "execution_count": 8,
      "outputs": [
        {
          "output_type": "execute_result",
          "data": {
            "text/plain": [
              "(158, 9)"
            ]
          },
          "metadata": {
            "tags": []
          },
          "execution_count": 8
        }
      ]
    },
    {
      "cell_type": "markdown",
      "metadata": {
        "id": "cA8BIlbIrjwV",
        "colab_type": "text"
      },
      "source": [
        "Explore la cantidad de registros, la media, el desvio y los cuartiles de las columnas numéricas."
      ]
    },
    {
      "cell_type": "code",
      "metadata": {
        "id": "V3N_RLzdUeqS",
        "colab_type": "code",
        "outputId": "d169841f-81bb-4cee-dbb5-96c5fe3d6cbf",
        "colab": {
          "base_uri": "https://localhost:8080/",
          "height": 297
        }
      },
      "source": [
        "<FILL>"
      ],
      "execution_count": 9,
      "outputs": [
        {
          "output_type": "execute_result",
          "data": {
            "text/html": [
              "<div>\n",
              "<style scoped>\n",
              "    .dataframe tbody tr th:only-of-type {\n",
              "        vertical-align: middle;\n",
              "    }\n",
              "\n",
              "    .dataframe tbody tr th {\n",
              "        vertical-align: top;\n",
              "    }\n",
              "\n",
              "    .dataframe thead th {\n",
              "        text-align: right;\n",
              "    }\n",
              "</style>\n",
              "<table border=\"1\" class=\"dataframe\">\n",
              "  <thead>\n",
              "    <tr style=\"text-align: right;\">\n",
              "      <th></th>\n",
              "      <th>Age</th>\n",
              "      <th>Tonnage</th>\n",
              "      <th>passengers</th>\n",
              "      <th>length</th>\n",
              "      <th>cabins</th>\n",
              "      <th>passenger_density</th>\n",
              "      <th>crew</th>\n",
              "    </tr>\n",
              "  </thead>\n",
              "  <tbody>\n",
              "    <tr>\n",
              "      <th>count</th>\n",
              "      <td>158.000000</td>\n",
              "      <td>158.000000</td>\n",
              "      <td>158.000000</td>\n",
              "      <td>158.000000</td>\n",
              "      <td>158.000000</td>\n",
              "      <td>158.000000</td>\n",
              "      <td>158.000000</td>\n",
              "    </tr>\n",
              "    <tr>\n",
              "      <th>mean</th>\n",
              "      <td>15.689873</td>\n",
              "      <td>71.284671</td>\n",
              "      <td>18.457405</td>\n",
              "      <td>8.130633</td>\n",
              "      <td>8.830000</td>\n",
              "      <td>39.900949</td>\n",
              "      <td>7.794177</td>\n",
              "    </tr>\n",
              "    <tr>\n",
              "      <th>std</th>\n",
              "      <td>7.615691</td>\n",
              "      <td>37.229540</td>\n",
              "      <td>9.677095</td>\n",
              "      <td>1.793474</td>\n",
              "      <td>4.471417</td>\n",
              "      <td>8.639217</td>\n",
              "      <td>3.503487</td>\n",
              "    </tr>\n",
              "    <tr>\n",
              "      <th>min</th>\n",
              "      <td>4.000000</td>\n",
              "      <td>2.329000</td>\n",
              "      <td>0.660000</td>\n",
              "      <td>2.790000</td>\n",
              "      <td>0.330000</td>\n",
              "      <td>17.700000</td>\n",
              "      <td>0.590000</td>\n",
              "    </tr>\n",
              "    <tr>\n",
              "      <th>25%</th>\n",
              "      <td>10.000000</td>\n",
              "      <td>46.013000</td>\n",
              "      <td>12.535000</td>\n",
              "      <td>7.100000</td>\n",
              "      <td>6.132500</td>\n",
              "      <td>34.570000</td>\n",
              "      <td>5.480000</td>\n",
              "    </tr>\n",
              "    <tr>\n",
              "      <th>50%</th>\n",
              "      <td>14.000000</td>\n",
              "      <td>71.899000</td>\n",
              "      <td>19.500000</td>\n",
              "      <td>8.555000</td>\n",
              "      <td>9.570000</td>\n",
              "      <td>39.085000</td>\n",
              "      <td>8.150000</td>\n",
              "    </tr>\n",
              "    <tr>\n",
              "      <th>75%</th>\n",
              "      <td>20.000000</td>\n",
              "      <td>90.772500</td>\n",
              "      <td>24.845000</td>\n",
              "      <td>9.510000</td>\n",
              "      <td>10.885000</td>\n",
              "      <td>44.185000</td>\n",
              "      <td>9.990000</td>\n",
              "    </tr>\n",
              "    <tr>\n",
              "      <th>max</th>\n",
              "      <td>48.000000</td>\n",
              "      <td>220.000000</td>\n",
              "      <td>54.000000</td>\n",
              "      <td>11.820000</td>\n",
              "      <td>27.000000</td>\n",
              "      <td>71.430000</td>\n",
              "      <td>21.000000</td>\n",
              "    </tr>\n",
              "  </tbody>\n",
              "</table>\n",
              "</div>"
            ],
            "text/plain": [
              "              Age     Tonnage  ...  passenger_density        crew\n",
              "count  158.000000  158.000000  ...         158.000000  158.000000\n",
              "mean    15.689873   71.284671  ...          39.900949    7.794177\n",
              "std      7.615691   37.229540  ...           8.639217    3.503487\n",
              "min      4.000000    2.329000  ...          17.700000    0.590000\n",
              "25%     10.000000   46.013000  ...          34.570000    5.480000\n",
              "50%     14.000000   71.899000  ...          39.085000    8.150000\n",
              "75%     20.000000   90.772500  ...          44.185000    9.990000\n",
              "max     48.000000  220.000000  ...          71.430000   21.000000\n",
              "\n",
              "[8 rows x 7 columns]"
            ]
          },
          "metadata": {
            "tags": []
          },
          "execution_count": 9
        }
      ]
    },
    {
      "cell_type": "markdown",
      "metadata": {
        "id": "NJgZ1f_OuhKa",
        "colab_type": "text"
      },
      "source": [
        "Liste las columnas del dataframe indicando el tipo de datos."
      ]
    },
    {
      "cell_type": "code",
      "metadata": {
        "id": "LnAtF0TAuHea",
        "colab_type": "code",
        "outputId": "a4764757-dbae-4a41-9e4b-15f12b4806d3",
        "colab": {
          "base_uri": "https://localhost:8080/",
          "height": 174
        }
      },
      "source": [
        "<FILL>"
      ],
      "execution_count": 10,
      "outputs": [
        {
          "output_type": "stream",
          "text": [
            "Columna Ship_name tipo: object\n",
            "Columna Cruise_line tipo: object\n",
            "Columna Age tipo: int64\n",
            "Columna Tonnage tipo: float64\n",
            "Columna passengers tipo: float64\n",
            "Columna length tipo: float64\n",
            "Columna cabins tipo: float64\n",
            "Columna passenger_density tipo: float64\n",
            "Columna crew tipo: float64\n"
          ],
          "name": "stdout"
        }
      ]
    },
    {
      "cell_type": "markdown",
      "metadata": {
        "id": "3nR1R8pusjtW",
        "colab_type": "text"
      },
      "source": [
        "## Preparación de los datos"
      ]
    },
    {
      "cell_type": "markdown",
      "metadata": {
        "id": "QPDFmaJAtED_",
        "colab_type": "text"
      },
      "source": [
        "Defina la columna objetivo a predecir en \"y\"  y \"X\" el dataframe con las características que se utilizarán para definir el modelo. Tenga en cuenta que solo se utilizarán las columnas numéricas."
      ]
    },
    {
      "cell_type": "code",
      "metadata": {
        "id": "Ks1srCYyUjfE",
        "colab_type": "code",
        "colab": {}
      },
      "source": [
        "# target object y\n",
        "y = <FILL>\n",
        "# Create X\n",
        "features=<FILL>\n",
        "X =<FILL>\n"
      ],
      "execution_count": 0,
      "outputs": []
    },
    {
      "cell_type": "markdown",
      "metadata": {
        "id": "0TVFw7bywqHc",
        "colab_type": "text"
      },
      "source": [
        "Defina las particiones para entrenamiento y de validación con semila=1 e imprima cuantas filas utilizará para entrenamiento y cuantas para validar"
      ]
    },
    {
      "cell_type": "code",
      "metadata": {
        "id": "FE8WkGeZVaWI",
        "colab_type": "code",
        "colab": {}
      },
      "source": [
        "# Split into validation and training data\n",
        "train_X, val_X, train_y, val_y = <FILL>"
      ],
      "execution_count": 0,
      "outputs": []
    },
    {
      "cell_type": "code",
      "metadata": {
        "id": "Hcy3i2DNvWUH",
        "colab_type": "code",
        "outputId": "fb3426b1-7814-4fe5-c51d-b49041361ed2",
        "colab": {
          "base_uri": "https://localhost:8080/",
          "height": 139
        }
      },
      "source": [
        "print(<FILL>)\n"
      ],
      "execution_count": 13,
      "outputs": [
        {
          "output_type": "stream",
          "text": [
            "Age                  118\n",
            "Tonnage              118\n",
            "passengers           118\n",
            "length               118\n",
            "cabins               118\n",
            "passenger_density    118\n",
            "dtype: int64\n"
          ],
          "name": "stdout"
        }
      ]
    },
    {
      "cell_type": "code",
      "metadata": {
        "id": "f4RMHGjzxIo7",
        "colab_type": "code",
        "outputId": "98765fbc-f5b3-459d-c764-c6f783490ddf",
        "colab": {
          "base_uri": "https://localhost:8080/",
          "height": 34
        }
      },
      "source": [
        "print(<FILL>)"
      ],
      "execution_count": 14,
      "outputs": [
        {
          "output_type": "stream",
          "text": [
            "40\n"
          ],
          "name": "stdout"
        }
      ]
    },
    {
      "cell_type": "markdown",
      "metadata": {
        "id": "gIFxf9nVxUlW",
        "colab_type": "text"
      },
      "source": [
        "## Definición del modelo"
      ]
    },
    {
      "cell_type": "markdown",
      "metadata": {
        "id": "9VbcjQ_LxgnU",
        "colab_type": "text"
      },
      "source": [
        "Defina el modelo utilizando un arbol de decisión con semilla=1"
      ]
    },
    {
      "cell_type": "code",
      "metadata": {
        "id": "JQXRHYwAVw6i",
        "colab_type": "code",
        "colab": {}
      },
      "source": [
        "#Specify Model\n",
        "cruise_ship_dt_model = <FILL>\n"
      ],
      "execution_count": 0,
      "outputs": []
    },
    {
      "cell_type": "markdown",
      "metadata": {
        "id": "bgp6FZWExy95",
        "colab_type": "text"
      },
      "source": [
        "Entrene el modelo "
      ]
    },
    {
      "cell_type": "code",
      "metadata": {
        "id": "0OPg5lRhx7hW",
        "colab_type": "code",
        "outputId": "9c960730-409c-41d7-aeab-636d197ec348",
        "colab": {
          "base_uri": "https://localhost:8080/",
          "height": 122
        }
      },
      "source": [
        "# Fit Model\n",
        "cruise_ship_dt_model.<FILL>"
      ],
      "execution_count": 16,
      "outputs": [
        {
          "output_type": "execute_result",
          "data": {
            "text/plain": [
              "DecisionTreeRegressor(ccp_alpha=0.0, criterion='mse', max_depth=None,\n",
              "                      max_features=None, max_leaf_nodes=None,\n",
              "                      min_impurity_decrease=0.0, min_impurity_split=None,\n",
              "                      min_samples_leaf=1, min_samples_split=2,\n",
              "                      min_weight_fraction_leaf=0.0, presort='deprecated',\n",
              "                      random_state=1, splitter='best')"
            ]
          },
          "metadata": {
            "tags": []
          },
          "execution_count": 16
        }
      ]
    },
    {
      "cell_type": "markdown",
      "metadata": {
        "id": "1HBu_ZiAyfO9",
        "colab_type": "text"
      },
      "source": [
        "## Predicción y validación del modelo "
      ]
    },
    {
      "cell_type": "markdown",
      "metadata": {
        "id": "bccY66GfzJCH",
        "colab_type": "text"
      },
      "source": [
        "Utilice el modelo para realizar las predicciones con los datos de validación y calcule el valor MAE (mean absolute error) obtenido sin haber indicado la cantidad de hojas (max_leaf_nodes)."
      ]
    },
    {
      "cell_type": "code",
      "metadata": {
        "id": "-hGydPMH0Ohd",
        "colab_type": "code",
        "outputId": "1c9be088-93c5-453e-c3dc-996526e8484a",
        "colab": {
          "base_uri": "https://localhost:8080/",
          "height": 34
        }
      },
      "source": [
        "val_predictions = <FILL>\n",
        "val_mae = <FILL>\n",
        "print(\"Validation MAE when not specifying max_leaf_nodes %f\" %val_mae)"
      ],
      "execution_count": 17,
      "outputs": [
        {
          "output_type": "stream",
          "text": [
            "Validation MAE when not specifying max_leaf_nodes 0.462000\n"
          ],
          "name": "stdout"
        }
      ]
    },
    {
      "cell_type": "markdown",
      "metadata": {
        "id": "m3gJCmEg1UoJ",
        "colab_type": "text"
      },
      "source": [
        "Defina la función \"get_mae\" que le permite calcular valores MAE para diferentes arbóles de decisión con diferentes números de hojas"
      ]
    },
    {
      "cell_type": "code",
      "metadata": {
        "id": "uFNQwRB_1pm7",
        "colab_type": "code",
        "colab": {}
      },
      "source": [
        "def get_mae(max_leaf_nodes, train_X, val_X, train_y, val_y):\n",
        "    model = DecisionTreeRegressor(max_leaf_nodes=max_leaf_nodes, random_state=1)\n",
        "    model.fit(train_X, train_y)\n",
        "    preds_val = model.predict(val_X)\n",
        "    mae = mean_absolute_error(val_y, preds_val)\n",
        "    return(mae)"
      ],
      "execution_count": 0,
      "outputs": []
    },
    {
      "cell_type": "markdown",
      "metadata": {
        "id": "7kTeLLwu1s2O",
        "colab_type": "text"
      },
      "source": [
        "Utilice la función get_mae para calcular MAE para los tamaños de 10,50,100,200,500,1000"
      ]
    },
    {
      "cell_type": "code",
      "metadata": {
        "id": "evdY3sFR1_dX",
        "colab_type": "code",
        "outputId": "a4be4423-fcd5-48f8-f1b8-07805f50ee96",
        "colab": {
          "base_uri": "https://localhost:8080/",
          "height": 122
        }
      },
      "source": [
        "<FILL>"
      ],
      "execution_count": 43,
      "outputs": [
        {
          "output_type": "stream",
          "text": [
            "Max leaf nodes: 10  \t\t Mean Absolute Error:  0.768456\n",
            "Max leaf nodes: 50  \t\t Mean Absolute Error:  0.547230\n",
            "Max leaf nodes: 100  \t\t Mean Absolute Error:  0.473750\n",
            "Max leaf nodes: 200  \t\t Mean Absolute Error:  0.473750\n",
            "Max leaf nodes: 500  \t\t Mean Absolute Error:  0.473750\n",
            "Max leaf nodes: 1000  \t\t Mean Absolute Error:  0.473750\n"
          ],
          "name": "stdout"
        }
      ]
    },
    {
      "cell_type": "markdown",
      "metadata": {
        "id": "ZANlPf2E2V5V",
        "colab_type": "text"
      },
      "source": [
        "¿Cuál es el valor optimo de \"max_leaf_nodes\" a utilizar para este modelo?"
      ]
    },
    {
      "cell_type": "code",
      "metadata": {
        "id": "CA0JgZ6r2iWi",
        "colab_type": "code",
        "colab": {}
      },
      "source": [
        "max_leaf_nodes=<FILL>"
      ],
      "execution_count": 0,
      "outputs": []
    },
    {
      "cell_type": "code",
      "metadata": {
        "id": "g8yzRK7_2oyx",
        "colab_type": "code",
        "colab": {}
      },
      "source": [
        "assert max_leaf_nodes==100,\"Error en max_leaf_nodes\""
      ],
      "execution_count": 0,
      "outputs": []
    },
    {
      "cell_type": "markdown",
      "metadata": {
        "id": "L6V4gS8w3SYv",
        "colab_type": "text"
      },
      "source": [
        "Calcule el vector de predicciones utilizando el modelo con la cantidad de hojas optimo y semilla 1 utilizando ahora todos los datos. Calcule el mae final."
      ]
    },
    {
      "cell_type": "code",
      "metadata": {
        "id": "pZYAE-goWEDs",
        "colab_type": "code",
        "outputId": "ca7ca031-5788-42db-9544-acc5db0fe412",
        "colab": {
          "base_uri": "https://localhost:8080/",
          "height": 34
        }
      },
      "source": [
        "model = <FILL>\n",
        "model<FILL>\n",
        "pred_tot = model<FILL>\n",
        "mae = mean_absolute_error<FILL>\n",
        "print(\"Max leaf nodes: %d  \\t\\t Mean Absolute Error:  %f\" %(max_leaf_nodes, mae))"
      ],
      "execution_count": 22,
      "outputs": [
        {
          "output_type": "stream",
          "text": [
            "Max leaf nodes: 100  \t\t Mean Absolute Error:  0.007004\n"
          ],
          "name": "stdout"
        }
      ]
    },
    {
      "cell_type": "markdown",
      "metadata": {
        "id": "RM-A1CtcEf9F",
        "colab_type": "text"
      },
      "source": [
        "¿Que porcentaje de error obtengo respecto a la media de los valores a predecir?"
      ]
    },
    {
      "cell_type": "code",
      "metadata": {
        "id": "0W3ra2QP97aw",
        "colab_type": "code",
        "outputId": "da12ddbf-8f20-4e3a-a0a4-386ae69af14f",
        "colab": {
          "base_uri": "https://localhost:8080/",
          "height": 34
        }
      },
      "source": [
        "print(<FILL>)"
      ],
      "execution_count": 23,
      "outputs": [
        {
          "output_type": "stream",
          "text": [
            "0.08986476976213031\n"
          ],
          "name": "stdout"
        }
      ]
    },
    {
      "cell_type": "code",
      "metadata": {
        "id": "pJ_q9zVUAkPY",
        "colab_type": "code",
        "colab": {}
      },
      "source": [
        "assert round((mae / y.mean())*100)==0,\"Error en resultado de porcentaje de error\""
      ],
      "execution_count": 0,
      "outputs": []
    },
    {
      "cell_type": "markdown",
      "metadata": {
        "id": "ZGBqOHH25A7_",
        "colab_type": "text"
      },
      "source": [
        "Explore al menos 10 valores calculados con la predicción y compare con los valore originales"
      ]
    },
    {
      "cell_type": "code",
      "metadata": {
        "id": "KveJ_jb7WqlW",
        "colab_type": "code",
        "outputId": "93b6c3d2-842d-4c62-d25c-c31977b8d5c4",
        "colab": {
          "base_uri": "https://localhost:8080/",
          "height": 192
        }
      },
      "source": [
        "<FILL>"
      ],
      "execution_count": 25,
      "outputs": [
        {
          "output_type": "stream",
          "text": [
            "real value: 3.533333333333333 predicted value: 3.55 Dif: -0.016666666666666607 \n",
            "real value: 3.533333333333333 predicted value: 3.55 Dif: -0.016666666666666607 \n",
            "real value: 6.65 predicted value: 6.7 Dif: -0.04999999999999982 \n",
            "real value: 19.1 predicted value: 19.1 Dif: 0.0 \n",
            "real value: 10.0 predicted value: 10.0 Dif: 0.0 \n",
            "real value: 9.200000000000001 predicted value: 9.2 Dif: 1.7763568394002505e-15 \n",
            "real value: 9.200000000000001 predicted value: 9.2 Dif: 1.7763568394002505e-15 \n",
            "real value: 9.200000000000001 predicted value: 9.2 Dif: 1.7763568394002505e-15 \n",
            "real value: 9.200000000000001 predicted value: 9.2 Dif: 1.7763568394002505e-15 \n",
            "real value: 11.5 predicted value: 11.5 Dif: 0.0 \n"
          ],
          "name": "stdout"
        }
      ]
    },
    {
      "cell_type": "markdown",
      "metadata": {
        "id": "LDeqH0Lh8rSm",
        "colab_type": "text"
      },
      "source": [
        "## Random Forest "
      ]
    },
    {
      "cell_type": "markdown",
      "metadata": {
        "id": "kUjBa2mI7yRP",
        "colab_type": "text"
      },
      "source": [
        "Utilice ahora un modelo RandomForest con semilla=1 y calcule el MAE para los datos de validación"
      ]
    },
    {
      "cell_type": "code",
      "metadata": {
        "id": "-g5tKTVk0BjW",
        "colab_type": "code",
        "outputId": "ba4fc014-3a3d-48ba-afe0-fb145d28d0d5",
        "colab": {
          "base_uri": "https://localhost:8080/",
          "height": 34
        }
      },
      "source": [
        "forest_model = RandomForestRegressor(<FILL>)\n",
        "forest_model.fit(<FILL>)\n",
        "val_predict_rf = forest_model.predict(<FILL>)\n",
        "mae_val_rf=mean_absolute_error(<FILL>)\n",
        "print(\"Mae Random forest con datos de validación=%f\" %(mae_val_rf))\n"
      ],
      "execution_count": 26,
      "outputs": [
        {
          "output_type": "stream",
          "text": [
            "Mae Random forest con datos de validación=0.433850\n"
          ],
          "name": "stdout"
        }
      ]
    },
    {
      "cell_type": "markdown",
      "metadata": {
        "id": "hIkIiZkdEPax",
        "colab_type": "text"
      },
      "source": [
        " Utilice todos los datos"
      ]
    },
    {
      "cell_type": "code",
      "metadata": {
        "id": "S_SV_acg0SBR",
        "colab_type": "code",
        "outputId": "f8d7a0be-47cb-4507-f640-cf97dc236dad",
        "colab": {
          "base_uri": "https://localhost:8080/",
          "height": 34
        }
      },
      "source": [
        "forest_model.fit((<FILL>))\n",
        "predict_rf_tot = forest_model.predict(<FILL>)\n",
        "mae_tot_rf=mean_absolute_error((<FILL>))\n",
        "print(\"Mae Random forest con todos los datos=%f\" %(mae_tot_rf))\n"
      ],
      "execution_count": 27,
      "outputs": [
        {
          "output_type": "stream",
          "text": [
            "Mae Random forest con todos los datos=0.197684\n"
          ],
          "name": "stdout"
        }
      ]
    },
    {
      "cell_type": "markdown",
      "metadata": {
        "id": "_UZJkGa-_mDq",
        "colab_type": "text"
      },
      "source": [
        "¿Que porcentaje de error obtengo respecto a la media de los valores a predecir utilizando random_forest?"
      ]
    },
    {
      "cell_type": "code",
      "metadata": {
        "id": "zDjmxQyD-iQf",
        "colab_type": "code",
        "outputId": "7241d56f-b22f-483f-80ce-dc06606a89bf",
        "colab": {
          "base_uri": "https://localhost:8080/",
          "height": 34
        }
      },
      "source": [
        "print((<FILL>))"
      ],
      "execution_count": 28,
      "outputs": [
        {
          "output_type": "stream",
          "text": [
            "2.5362994120895266\n"
          ],
          "name": "stdout"
        }
      ]
    },
    {
      "cell_type": "code",
      "metadata": {
        "id": "4gFkvXw-_-Hb",
        "colab_type": "code",
        "colab": {}
      },
      "source": [
        "assert round((mae_tot_rf / y.mean())*100)==3,\"Error en resultado de porcentaje de error\""
      ],
      "execution_count": 0,
      "outputs": []
    },
    {
      "cell_type": "markdown",
      "metadata": {
        "id": "oPb4mVdeSJ6b",
        "colab_type": "text"
      },
      "source": [
        "## Categorización de variables"
      ]
    },
    {
      "cell_type": "markdown",
      "metadata": {
        "id": "fYMlRJuLIA92",
        "colab_type": "text"
      },
      "source": [
        "redefinir las columnas \"features\" y los datos X. Volver a particionar los datos incluyendo la nueva columna a factorizar"
      ]
    },
    {
      "cell_type": "code",
      "metadata": {
        "id": "Nq2e-z5nH_ml",
        "colab_type": "code",
        "colab": {}
      },
      "source": [
        "features=[\"Cruise_line\", \"Age\", \"Tonnage\",\"passengers\",'length','cabins','passenger_density']\n",
        "X = data[features]"
      ],
      "execution_count": 0,
      "outputs": []
    },
    {
      "cell_type": "code",
      "metadata": {
        "id": "AkIW0xy8IWF2",
        "colab_type": "code",
        "colab": {}
      },
      "source": [
        "X_train, X_valid, y_train, y_valid = train_test_split(X, y, random_state=1)"
      ],
      "execution_count": 0,
      "outputs": []
    },
    {
      "cell_type": "markdown",
      "metadata": {
        "id": "PByY9VckFJ_o",
        "colab_type": "text"
      },
      "source": [
        "Definir la funcion label_encoder, la lista de las columnas a transformar y aplicar la transpormación."
      ]
    },
    {
      "cell_type": "code",
      "metadata": {
        "id": "PwXk-5AUG92p",
        "colab_type": "code",
        "colab": {}
      },
      "source": [
        "#hacemos una copia de resguardo\n",
        "label_X_train = X_train.copy()\n",
        "label_X_valid = X_valid.copy()\n",
        "\n",
        "# Apply label encoder to each column with categorical data\n",
        "label_encoder = LabelEncoder()\n",
        "object_cols = ['Cruise_line']\n",
        "for col in object_cols:\n",
        "    label_X_train[col] = label_encoder.fit_transform(X_train[col])\n",
        "    label_X_valid[col] = label_encoder.transform(X_valid[col])\n",
        "\n"
      ],
      "execution_count": 0,
      "outputs": []
    },
    {
      "cell_type": "markdown",
      "metadata": {
        "id": "IFRyK9enIxki",
        "colab_type": "text"
      },
      "source": [
        "Explorar el vector X de entrenamiento antes y despues de aplicar la categorización. Utilice set, unique() y nunique()"
      ]
    },
    {
      "cell_type": "code",
      "metadata": {
        "id": "rdqOtqtXJdVq",
        "colab_type": "code",
        "outputId": "38a719e6-bc51-4939-e950-f6c8622af489",
        "colab": {
          "base_uri": "https://localhost:8080/",
          "height": 367
        }
      },
      "source": [
        "set(X['Cruise_line'])"
      ],
      "execution_count": 35,
      "outputs": [
        {
          "output_type": "execute_result",
          "data": {
            "text/plain": [
              "{'Azamara',\n",
              " 'Carnival',\n",
              " 'Celebrity',\n",
              " 'Costa',\n",
              " 'Crystal',\n",
              " 'Cunard',\n",
              " 'Disney',\n",
              " 'Holland_American',\n",
              " 'MSC',\n",
              " 'Norwegian',\n",
              " 'Oceania',\n",
              " 'Orient',\n",
              " 'P&O',\n",
              " 'Princess',\n",
              " 'Regent_Seven_Seas',\n",
              " 'Royal_Caribbean',\n",
              " 'Seabourn',\n",
              " 'Silversea',\n",
              " 'Star',\n",
              " 'Windstar'}"
            ]
          },
          "metadata": {
            "tags": []
          },
          "execution_count": 35
        }
      ]
    },
    {
      "cell_type": "code",
      "metadata": {
        "id": "kOy7ZHWIKlw-",
        "colab_type": "code",
        "outputId": "84b2c87e-39dc-41c7-b223-fd2496cb3a7d",
        "colab": {
          "base_uri": "https://localhost:8080/",
          "height": 34
        }
      },
      "source": [
        "print(\"Cantidad de Unique values in Cruise_line column in training data:\", X_train['Cruise_line'].nunique())"
      ],
      "execution_count": 36,
      "outputs": [
        {
          "output_type": "stream",
          "text": [
            "Cantidad de Unique values in Cruise_line column in training data: 20\n"
          ],
          "name": "stdout"
        }
      ]
    },
    {
      "cell_type": "code",
      "metadata": {
        "id": "-ZzaCeGXI5D0",
        "colab_type": "code",
        "outputId": "7c0b70ae-8ba3-4512-eb08-9966f8a4eb17",
        "colab": {
          "base_uri": "https://localhost:8080/",
          "height": 262
        }
      },
      "source": [
        "print(label_X_train.head)"
      ],
      "execution_count": 37,
      "outputs": [
        {
          "output_type": "stream",
          "text": [
            "<bound method NDFrame.head of      Cruise_line  Age  Tonnage  passengers  length  cabins  passenger_density\n",
            "56             7   10   81.769       18.48    9.59    9.24              44.25\n",
            "136           15   16   78.491       24.35    9.15   10.00              32.23\n",
            "132           15   22   73.941       27.44    8.80   11.77              30.94\n",
            "12             1   18   70.367       20.52    8.55   10.20              34.29\n",
            "54             7   20   55.451       12.64    7.19    6.32              43.87\n",
            "..           ...  ...      ...         ...     ...     ...                ...\n",
            "133           15   11  138.000       31.14   10.20   15.57              44.32\n",
            "137           15   10   90.090       25.01    9.62   10.50              36.02\n",
            "72             8   36   16.852        9.52    5.41    3.83              17.70\n",
            "140           15   15   78.491       24.35    9.15   10.00              32.23\n",
            "37             3   27   53.872       14.94    7.98    7.67              36.06\n",
            "\n",
            "[118 rows x 7 columns]>\n"
          ],
          "name": "stdout"
        }
      ]
    },
    {
      "cell_type": "code",
      "metadata": {
        "id": "vD-dxA26LbNa",
        "colab_type": "code",
        "outputId": "773cb0e7-cef7-4cdb-c4ed-43260238bcd8",
        "colab": {
          "base_uri": "https://localhost:8080/",
          "height": 34
        }
      },
      "source": [
        "print(\"Unique values in Cruise_line luego de aplicar la codificación de label:\", label_X_train['Cruise_line'].unique())"
      ],
      "execution_count": 38,
      "outputs": [
        {
          "output_type": "stream",
          "text": [
            "Unique values in Cruise_line luego de aplicar la codificación de label: [ 7 15  1 13  2  8 14  9  5 11  4  3 17  0 10 18 12 19  6 16]\n"
          ],
          "name": "stdout"
        }
      ]
    },
    {
      "cell_type": "markdown",
      "metadata": {
        "id": "xoNoUC-QMwT_",
        "colab_type": "text"
      },
      "source": [
        "Defina un nuevo modelo utilizando con la nueva característica e indique los nuevos valores MAE con los datos de validación utilizando Random Forest y Decision Tree. ¿Ha conseguido disminuir el error?"
      ]
    },
    {
      "cell_type": "code",
      "metadata": {
        "id": "_gAKf9C1P6F5",
        "colab_type": "code",
        "colab": {}
      },
      "source": [
        "def score_dataset_RandomForest(X_train, X_valid, y_train, y_valid,n_estimators=100):\n",
        "    model = RandomForestRegressor(n_estimators=100, random_state=1)\n",
        "    model.fit(X_train, y_train)\n",
        "    preds = model.predict(X_valid)\n",
        "    return mean_absolute_error(y_valid, preds)\n",
        "\n",
        "def score_dataset_DecisionTree(X_train, X_valid, y_train, y_valid,max_leaf_nodes=100):\n",
        "    model=DecisionTreeRegressor(max_leaf_nodes=max_leaf_nodes, random_state=1)\n",
        "    model.fit(X_train, y_train)\n",
        "    preds = model.predict(X_valid)\n",
        "    return mean_absolute_error(y_valid, preds)\n"
      ],
      "execution_count": 0,
      "outputs": []
    },
    {
      "cell_type": "code",
      "metadata": {
        "id": "cKc3ZQBEP9cr",
        "colab_type": "code",
        "outputId": "e0d8d1e3-2940-499d-f4d7-88daf89ae3fd",
        "colab": {
          "base_uri": "https://localhost:8080/",
          "height": 52
        }
      },
      "source": [
        "print(\"MAE incluyendo Cruise Line utilizando Random Forest:\") \n",
        "print(score_dataset_RandomForest(label_X_train, label_X_valid, y_train, y_valid))"
      ],
      "execution_count": 40,
      "outputs": [
        {
          "output_type": "stream",
          "text": [
            "MAE incluyendo Cruise Line utilizando Random Forest:\n",
            "0.3933324999999998\n"
          ],
          "name": "stdout"
        }
      ]
    },
    {
      "cell_type": "code",
      "metadata": {
        "id": "XBhH6XPcRinH",
        "colab_type": "code",
        "outputId": "52f29889-937a-4318-8068-aa9401abd30b",
        "colab": {
          "base_uri": "https://localhost:8080/",
          "height": 52
        }
      },
      "source": [
        "print(\"MAE incluyendo Cruise Line utilizando Decision Tres:\") \n",
        "print(score_dataset_DecisionTree(label_X_train, label_X_valid, y_train, y_valid))"
      ],
      "execution_count": 41,
      "outputs": [
        {
          "output_type": "stream",
          "text": [
            "MAE incluyendo Cruise Line utilizando Decision Tres:\n",
            "0.44200000000000006\n"
          ],
          "name": "stdout"
        }
      ]
    }
  ]
}