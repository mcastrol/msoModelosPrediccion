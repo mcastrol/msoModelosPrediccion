{
  "nbformat": 4,
  "nbformat_minor": 0,
  "metadata": {
    "colab": {
      "name": "titanic_toDo.ipynb",
      "provenance": [],
      "collapsed_sections": []
    },
    "kernelspec": {
      "name": "python3",
      "display_name": "Python 3"
    }
  },
  "cells": [
    {
      "cell_type": "markdown",
      "metadata": {
        "id": "DHnpKLcboJZq",
        "colab_type": "text"
      },
      "source": [
        "## **Modelo de Clasificación**\n",
        "El objetivo de este ejercicio es encontrar un modelo que permita predecir si los pasajeros del titanic sobreviven o no.\n",
        "\n",
        "\n",
        "Descripción del dataSet:\n",
        "\n",
        "* survival - Survival (0 = No; 1 = Yes)\n",
        "* class - Passenger Class (1 = 1st; 2 = 2nd; 3 = 3rd)\n",
        "* name - Name\n",
        "* sex - Sex\n",
        "* age - Age\n",
        "* sibsp - Number of Siblings/Spouses Aboard\n",
        "* parch - Number of Parents/Children Aboard\n",
        "* ticket - Ticket Number\n",
        "* fare - Passenger Fare\n",
        "* cabin - Cabin\n",
        "* embarked - Port of Embarkation (C = Cherbourg; Q = Queenstown; S = * Southampton)\n",
        "* boat - Lifeboat (if survived)\n",
        "* body - Body number (if did not survive and body was recovered)\n",
        "\n",
        "\n",
        "Utilizaremos los modelos de clasificación RandomForest, Regresion Logística,  y clasificación MultiClass. \n",
        "\n",
        "https://scikit-learn.org/stable/modules/generated/sklearn.ensemble.RandomForestClassifier.html\n",
        "\n",
        "https://scikit-learn.org/stable/modules/generated/sklearn.linear_model.LogisticRegression.html\n",
        "https://scikit-learn.org/stable/modules/generated/sklearn.neural_network.MLPClassifier.html\n",
        "\n",
        "Realizemos drop de las filas con na o null\n",
        "https://pandas.pydata.org/pandas-docs/stable/reference/api/pandas.DataFrame.dropna.html\n"
      ]
    },
    {
      "cell_type": "markdown",
      "metadata": {
        "id": "L9lfcGPIRK2i",
        "colab_type": "text"
      },
      "source": [
        "Ayuda:\n",
        "\n",
        "1. Tratamiento de nulos\n",
        "En este ejercicio eliminaremos todas las filas que tengan algun valor nulo mediante\n",
        "\n",
        "data_selected = data_selected.dropna(axis=0)\n",
        "\n",
        "\n",
        "El parámetro axis=0 indica que se eliminaran las filas. Si se utiliza axis=1, se elimina la columna completa.\n",
        "\n",
        "Ver el tutorial de tratamiento de nulos del Kaggle.\n",
        "\n",
        "[Tutorial Kaggle](https://www.kaggle.com/dansbecker/handling-missing-values)\n",
        "\n",
        "\n",
        "\n",
        "\n"
      ]
    },
    {
      "cell_type": "code",
      "metadata": {
        "id": "7spIHKpmm8V5",
        "colab_type": "code",
        "colab": {}
      },
      "source": [
        "import pandas as pd\n",
        "from sklearn.ensemble import RandomForestClassifier\n",
        "from sklearn.neural_network import MLPClassifier\n",
        "from sklearn.metrics import mean_absolute_error\n",
        "from sklearn.model_selection import train_test_split\n",
        "from sklearn.linear_model import LogisticRegression\n",
        "from sklearn.preprocessing import LabelEncoder\n",
        "from sklearn import metrics\n",
        "\n",
        "\n"
      ],
      "execution_count": 0,
      "outputs": []
    },
    {
      "cell_type": "markdown",
      "metadata": {
        "id": "ewjkVV_XpL3J",
        "colab_type": "text"
      },
      "source": [
        "## Lectura de datos y exploración"
      ]
    },
    {
      "cell_type": "markdown",
      "metadata": {
        "id": "sb_yfojaozWr",
        "colab_type": "text"
      },
      "source": [
        "Leer el fichero de datos \"College.csv\". "
      ]
    },
    {
      "cell_type": "code",
      "metadata": {
        "id": "vGXVwsmgTZbO",
        "colab_type": "code",
        "colab": {}
      },
      "source": [
        "file_path = <FILL>\n",
        "data = <FILL>"
      ],
      "execution_count": 0,
      "outputs": []
    },
    {
      "cell_type": "markdown",
      "metadata": {
        "id": "plmniYX2pvUu",
        "colab_type": "text"
      },
      "source": [
        "Listar las primeras filas del fichero para ver los datos"
      ]
    },
    {
      "cell_type": "code",
      "metadata": {
        "id": "msZ1la2yUWTl",
        "colab_type": "code",
        "outputId": "bb1ff439-3036-4144-f600-c08463cd6652",
        "colab": {
          "base_uri": "https://localhost:8080/",
          "height": 204
        }
      },
      "source": [
        "<FILL>"
      ],
      "execution_count": 26,
      "outputs": [
        {
          "output_type": "execute_result",
          "data": {
            "text/html": [
              "<div>\n",
              "<style scoped>\n",
              "    .dataframe tbody tr th:only-of-type {\n",
              "        vertical-align: middle;\n",
              "    }\n",
              "\n",
              "    .dataframe tbody tr th {\n",
              "        vertical-align: top;\n",
              "    }\n",
              "\n",
              "    .dataframe thead th {\n",
              "        text-align: right;\n",
              "    }\n",
              "</style>\n",
              "<table border=\"1\" class=\"dataframe\">\n",
              "  <thead>\n",
              "    <tr style=\"text-align: right;\">\n",
              "      <th></th>\n",
              "      <th>PassengerId</th>\n",
              "      <th>Survived</th>\n",
              "      <th>Pclass</th>\n",
              "      <th>Name</th>\n",
              "      <th>Sex</th>\n",
              "      <th>Age</th>\n",
              "      <th>SibSp</th>\n",
              "      <th>Parch</th>\n",
              "      <th>Ticket</th>\n",
              "      <th>Fare</th>\n",
              "      <th>Cabin</th>\n",
              "      <th>Embarked</th>\n",
              "    </tr>\n",
              "  </thead>\n",
              "  <tbody>\n",
              "    <tr>\n",
              "      <th>0</th>\n",
              "      <td>1</td>\n",
              "      <td>0</td>\n",
              "      <td>3</td>\n",
              "      <td>Braund, Mr. Owen Harris</td>\n",
              "      <td>male</td>\n",
              "      <td>22.0</td>\n",
              "      <td>1</td>\n",
              "      <td>0</td>\n",
              "      <td>A/5 21171</td>\n",
              "      <td>7.2500</td>\n",
              "      <td>NaN</td>\n",
              "      <td>S</td>\n",
              "    </tr>\n",
              "    <tr>\n",
              "      <th>1</th>\n",
              "      <td>2</td>\n",
              "      <td>1</td>\n",
              "      <td>1</td>\n",
              "      <td>Cumings, Mrs. John Bradley (Florence Briggs Th...</td>\n",
              "      <td>female</td>\n",
              "      <td>38.0</td>\n",
              "      <td>1</td>\n",
              "      <td>0</td>\n",
              "      <td>PC 17599</td>\n",
              "      <td>71.2833</td>\n",
              "      <td>C85</td>\n",
              "      <td>C</td>\n",
              "    </tr>\n",
              "    <tr>\n",
              "      <th>2</th>\n",
              "      <td>3</td>\n",
              "      <td>1</td>\n",
              "      <td>3</td>\n",
              "      <td>Heikkinen, Miss. Laina</td>\n",
              "      <td>female</td>\n",
              "      <td>26.0</td>\n",
              "      <td>0</td>\n",
              "      <td>0</td>\n",
              "      <td>STON/O2. 3101282</td>\n",
              "      <td>7.9250</td>\n",
              "      <td>NaN</td>\n",
              "      <td>S</td>\n",
              "    </tr>\n",
              "    <tr>\n",
              "      <th>3</th>\n",
              "      <td>4</td>\n",
              "      <td>1</td>\n",
              "      <td>1</td>\n",
              "      <td>Futrelle, Mrs. Jacques Heath (Lily May Peel)</td>\n",
              "      <td>female</td>\n",
              "      <td>35.0</td>\n",
              "      <td>1</td>\n",
              "      <td>0</td>\n",
              "      <td>113803</td>\n",
              "      <td>53.1000</td>\n",
              "      <td>C123</td>\n",
              "      <td>S</td>\n",
              "    </tr>\n",
              "    <tr>\n",
              "      <th>4</th>\n",
              "      <td>5</td>\n",
              "      <td>0</td>\n",
              "      <td>3</td>\n",
              "      <td>Allen, Mr. William Henry</td>\n",
              "      <td>male</td>\n",
              "      <td>35.0</td>\n",
              "      <td>0</td>\n",
              "      <td>0</td>\n",
              "      <td>373450</td>\n",
              "      <td>8.0500</td>\n",
              "      <td>NaN</td>\n",
              "      <td>S</td>\n",
              "    </tr>\n",
              "  </tbody>\n",
              "</table>\n",
              "</div>"
            ],
            "text/plain": [
              "   PassengerId  Survived  Pclass  ...     Fare Cabin  Embarked\n",
              "0            1         0       3  ...   7.2500   NaN         S\n",
              "1            2         1       1  ...  71.2833   C85         C\n",
              "2            3         1       3  ...   7.9250   NaN         S\n",
              "3            4         1       1  ...  53.1000  C123         S\n",
              "4            5         0       3  ...   8.0500   NaN         S\n",
              "\n",
              "[5 rows x 12 columns]"
            ]
          },
          "metadata": {
            "tags": []
          },
          "execution_count": 26
        }
      ]
    },
    {
      "cell_type": "markdown",
      "metadata": {
        "id": "C497uuSrqEgs",
        "colab_type": "text"
      },
      "source": [
        "¿cuantas filas y columnas tienen los datos?\n"
      ]
    },
    {
      "cell_type": "code",
      "metadata": {
        "id": "VBaRrgh-qQx5",
        "colab_type": "code",
        "outputId": "8605da79-db88-4d96-89e9-e24950c89104",
        "colab": {
          "base_uri": "https://localhost:8080/",
          "height": 34
        }
      },
      "source": [
        "<FILL>"
      ],
      "execution_count": 27,
      "outputs": [
        {
          "output_type": "execute_result",
          "data": {
            "text/plain": [
              "(891, 12)"
            ]
          },
          "metadata": {
            "tags": []
          },
          "execution_count": 27
        }
      ]
    },
    {
      "cell_type": "markdown",
      "metadata": {
        "id": "sk2m0Om3jOAP",
        "colab_type": "text"
      },
      "source": [
        "Seleccione de los datos, las columnas con las que trabajaremos:\n",
        "['Survived',\n",
        " 'Pclass',\n",
        " 'Sex',\n",
        " 'Age',\n",
        " 'SibSp',\n",
        " 'Parch',\n",
        " 'Fare',\n",
        " 'Embarked'])"
      ]
    },
    {
      "cell_type": "code",
      "metadata": {
        "id": "ohBNLEecjbfE",
        "colab_type": "code",
        "colab": {}
      },
      "source": [
        "selected = <FILL>\n",
        "data_selected=data[<FILL>]"
      ],
      "execution_count": 0,
      "outputs": []
    },
    {
      "cell_type": "markdown",
      "metadata": {
        "id": "sGw1XKVLjxlC",
        "colab_type": "text"
      },
      "source": [
        "Elimine las filas que tienen datos en nulos o na:"
      ]
    },
    {
      "cell_type": "code",
      "metadata": {
        "id": "tKuNrP5TkA4z",
        "colab_type": "code",
        "colab": {}
      },
      "source": [
        "data_selected = <FILL>"
      ],
      "execution_count": 0,
      "outputs": []
    },
    {
      "cell_type": "markdown",
      "metadata": {
        "id": "cA8BIlbIrjwV",
        "colab_type": "text"
      },
      "source": [
        "Explore la cantidad de registros, la media, el desvio y los cuartiles de las columnas numéricas de los datos con que trabajaremos."
      ]
    },
    {
      "cell_type": "code",
      "metadata": {
        "id": "V3N_RLzdUeqS",
        "colab_type": "code",
        "outputId": "79aebe05-49f0-4ec5-efec-242ab575020b",
        "colab": {
          "base_uri": "https://localhost:8080/",
          "height": 297
        }
      },
      "source": [
        "<FILL>"
      ],
      "execution_count": 30,
      "outputs": [
        {
          "output_type": "execute_result",
          "data": {
            "text/html": [
              "<div>\n",
              "<style scoped>\n",
              "    .dataframe tbody tr th:only-of-type {\n",
              "        vertical-align: middle;\n",
              "    }\n",
              "\n",
              "    .dataframe tbody tr th {\n",
              "        vertical-align: top;\n",
              "    }\n",
              "\n",
              "    .dataframe thead th {\n",
              "        text-align: right;\n",
              "    }\n",
              "</style>\n",
              "<table border=\"1\" class=\"dataframe\">\n",
              "  <thead>\n",
              "    <tr style=\"text-align: right;\">\n",
              "      <th></th>\n",
              "      <th>Survived</th>\n",
              "      <th>Pclass</th>\n",
              "      <th>Age</th>\n",
              "      <th>SibSp</th>\n",
              "      <th>Parch</th>\n",
              "      <th>Fare</th>\n",
              "    </tr>\n",
              "  </thead>\n",
              "  <tbody>\n",
              "    <tr>\n",
              "      <th>count</th>\n",
              "      <td>712.000000</td>\n",
              "      <td>712.000000</td>\n",
              "      <td>712.000000</td>\n",
              "      <td>712.000000</td>\n",
              "      <td>712.000000</td>\n",
              "      <td>712.000000</td>\n",
              "    </tr>\n",
              "    <tr>\n",
              "      <th>mean</th>\n",
              "      <td>0.404494</td>\n",
              "      <td>2.240169</td>\n",
              "      <td>29.642093</td>\n",
              "      <td>0.514045</td>\n",
              "      <td>0.432584</td>\n",
              "      <td>34.567251</td>\n",
              "    </tr>\n",
              "    <tr>\n",
              "      <th>std</th>\n",
              "      <td>0.491139</td>\n",
              "      <td>0.836854</td>\n",
              "      <td>14.492933</td>\n",
              "      <td>0.930692</td>\n",
              "      <td>0.854181</td>\n",
              "      <td>52.938648</td>\n",
              "    </tr>\n",
              "    <tr>\n",
              "      <th>min</th>\n",
              "      <td>0.000000</td>\n",
              "      <td>1.000000</td>\n",
              "      <td>0.420000</td>\n",
              "      <td>0.000000</td>\n",
              "      <td>0.000000</td>\n",
              "      <td>0.000000</td>\n",
              "    </tr>\n",
              "    <tr>\n",
              "      <th>25%</th>\n",
              "      <td>0.000000</td>\n",
              "      <td>1.000000</td>\n",
              "      <td>20.000000</td>\n",
              "      <td>0.000000</td>\n",
              "      <td>0.000000</td>\n",
              "      <td>8.050000</td>\n",
              "    </tr>\n",
              "    <tr>\n",
              "      <th>50%</th>\n",
              "      <td>0.000000</td>\n",
              "      <td>2.000000</td>\n",
              "      <td>28.000000</td>\n",
              "      <td>0.000000</td>\n",
              "      <td>0.000000</td>\n",
              "      <td>15.645850</td>\n",
              "    </tr>\n",
              "    <tr>\n",
              "      <th>75%</th>\n",
              "      <td>1.000000</td>\n",
              "      <td>3.000000</td>\n",
              "      <td>38.000000</td>\n",
              "      <td>1.000000</td>\n",
              "      <td>1.000000</td>\n",
              "      <td>33.000000</td>\n",
              "    </tr>\n",
              "    <tr>\n",
              "      <th>max</th>\n",
              "      <td>1.000000</td>\n",
              "      <td>3.000000</td>\n",
              "      <td>80.000000</td>\n",
              "      <td>5.000000</td>\n",
              "      <td>6.000000</td>\n",
              "      <td>512.329200</td>\n",
              "    </tr>\n",
              "  </tbody>\n",
              "</table>\n",
              "</div>"
            ],
            "text/plain": [
              "         Survived      Pclass         Age       SibSp       Parch        Fare\n",
              "count  712.000000  712.000000  712.000000  712.000000  712.000000  712.000000\n",
              "mean     0.404494    2.240169   29.642093    0.514045    0.432584   34.567251\n",
              "std      0.491139    0.836854   14.492933    0.930692    0.854181   52.938648\n",
              "min      0.000000    1.000000    0.420000    0.000000    0.000000    0.000000\n",
              "25%      0.000000    1.000000   20.000000    0.000000    0.000000    8.050000\n",
              "50%      0.000000    2.000000   28.000000    0.000000    0.000000   15.645850\n",
              "75%      1.000000    3.000000   38.000000    1.000000    1.000000   33.000000\n",
              "max      1.000000    3.000000   80.000000    5.000000    6.000000  512.329200"
            ]
          },
          "metadata": {
            "tags": []
          },
          "execution_count": 30
        }
      ]
    },
    {
      "cell_type": "markdown",
      "metadata": {
        "id": "NJgZ1f_OuhKa",
        "colab_type": "text"
      },
      "source": [
        "Liste las columnas del dataframe indicando el tipo de datos."
      ]
    },
    {
      "cell_type": "code",
      "metadata": {
        "id": "LnAtF0TAuHea",
        "colab_type": "code",
        "outputId": "e7a94377-0e2b-458e-d37d-231acde7fe62",
        "colab": {
          "base_uri": "https://localhost:8080/",
          "height": 157
        }
      },
      "source": [
        "<FILL>"
      ],
      "execution_count": 31,
      "outputs": [
        {
          "output_type": "stream",
          "text": [
            "Columna Survived tipo: int64\n",
            "Columna Pclass tipo: int64\n",
            "Columna Sex tipo: object\n",
            "Columna Age tipo: float64\n",
            "Columna SibSp tipo: int64\n",
            "Columna Parch tipo: int64\n",
            "Columna Fare tipo: float64\n",
            "Columna Embarked tipo: object\n"
          ],
          "name": "stdout"
        }
      ]
    },
    {
      "cell_type": "markdown",
      "metadata": {
        "id": "OO-imk40cNzx",
        "colab_type": "text"
      },
      "source": [
        "¿Cuantas han sobrevido y cuantos no?"
      ]
    },
    {
      "cell_type": "code",
      "metadata": {
        "id": "3EK4KIMY1J05",
        "colab_type": "code",
        "outputId": "abdc533b-f7ef-4e6d-8e49-791766bb2bc1",
        "colab": {
          "base_uri": "https://localhost:8080/",
          "height": 142
        }
      },
      "source": [
        "data_selected.groupby(<FILL>)"
      ],
      "execution_count": 32,
      "outputs": [
        {
          "output_type": "execute_result",
          "data": {
            "text/html": [
              "<div>\n",
              "<style scoped>\n",
              "    .dataframe tbody tr th:only-of-type {\n",
              "        vertical-align: middle;\n",
              "    }\n",
              "\n",
              "    .dataframe tbody tr th {\n",
              "        vertical-align: top;\n",
              "    }\n",
              "\n",
              "    .dataframe thead th {\n",
              "        text-align: right;\n",
              "    }\n",
              "</style>\n",
              "<table border=\"1\" class=\"dataframe\">\n",
              "  <thead>\n",
              "    <tr style=\"text-align: right;\">\n",
              "      <th></th>\n",
              "      <th>Pclass</th>\n",
              "      <th>Sex</th>\n",
              "      <th>Age</th>\n",
              "      <th>SibSp</th>\n",
              "      <th>Parch</th>\n",
              "      <th>Fare</th>\n",
              "      <th>Embarked</th>\n",
              "    </tr>\n",
              "    <tr>\n",
              "      <th>Survived</th>\n",
              "      <th></th>\n",
              "      <th></th>\n",
              "      <th></th>\n",
              "      <th></th>\n",
              "      <th></th>\n",
              "      <th></th>\n",
              "      <th></th>\n",
              "    </tr>\n",
              "  </thead>\n",
              "  <tbody>\n",
              "    <tr>\n",
              "      <th>0</th>\n",
              "      <td>424</td>\n",
              "      <td>424</td>\n",
              "      <td>424</td>\n",
              "      <td>424</td>\n",
              "      <td>424</td>\n",
              "      <td>424</td>\n",
              "      <td>424</td>\n",
              "    </tr>\n",
              "    <tr>\n",
              "      <th>1</th>\n",
              "      <td>288</td>\n",
              "      <td>288</td>\n",
              "      <td>288</td>\n",
              "      <td>288</td>\n",
              "      <td>288</td>\n",
              "      <td>288</td>\n",
              "      <td>288</td>\n",
              "    </tr>\n",
              "  </tbody>\n",
              "</table>\n",
              "</div>"
            ],
            "text/plain": [
              "          Pclass  Sex  Age  SibSp  Parch  Fare  Embarked\n",
              "Survived                                                \n",
              "0            424  424  424    424    424   424       424\n",
              "1            288  288  288    288    288   288       288"
            ]
          },
          "metadata": {
            "tags": []
          },
          "execution_count": 32
        }
      ]
    },
    {
      "cell_type": "markdown",
      "metadata": {
        "id": "3nR1R8pusjtW",
        "colab_type": "text"
      },
      "source": [
        "## Preparación de los datos"
      ]
    },
    {
      "cell_type": "markdown",
      "metadata": {
        "id": "PDshXMS4fCUN",
        "colab_type": "text"
      },
      "source": [
        "Liste las variables categóricas "
      ]
    },
    {
      "cell_type": "code",
      "metadata": {
        "id": "8wCjW3y2fAf9",
        "colab_type": "code",
        "outputId": "3b5f2b38-3783-493d-d6a0-2b6e3992c395",
        "colab": {
          "base_uri": "https://localhost:8080/",
          "height": 52
        }
      },
      "source": [
        "<FILL>\n"
      ],
      "execution_count": 33,
      "outputs": [
        {
          "output_type": "stream",
          "text": [
            "Categorical variables:\n",
            "['Sex', 'Embarked']\n"
          ],
          "name": "stdout"
        }
      ]
    },
    {
      "cell_type": "markdown",
      "metadata": {
        "id": "gHouXzHdlePg",
        "colab_type": "text"
      },
      "source": [
        "Liste los diferentes valores de las columnas \"categorical\""
      ]
    },
    {
      "cell_type": "code",
      "metadata": {
        "id": "-J6WDg01lrfF",
        "colab_type": "code",
        "outputId": "9a29deae-66e3-4b92-d2f9-42e9ea6d93e5",
        "colab": {
          "base_uri": "https://localhost:8080/",
          "height": 52
        }
      },
      "source": [
        "print(set(<FILL>))\n",
        "print(set(<FILL>))"
      ],
      "execution_count": 34,
      "outputs": [
        {
          "output_type": "stream",
          "text": [
            "{'female', 'male'}\n",
            "{'S', 'C', 'Q'}\n"
          ],
          "name": "stdout"
        }
      ]
    },
    {
      "cell_type": "markdown",
      "metadata": {
        "id": "EOeFmhLHiyka",
        "colab_type": "text"
      },
      "source": [
        "Indique en una lista las columnas a las que aplicar \"label encoder\" en good_label_cols y las que no se aplicará el encoder en bad_label_cols"
      ]
    },
    {
      "cell_type": "code",
      "metadata": {
        "id": "YFIeXMjukKRr",
        "colab_type": "code",
        "colab": {}
      },
      "source": [
        "label_cols =<FILL>"
      ],
      "execution_count": 0,
      "outputs": []
    },
    {
      "cell_type": "markdown",
      "metadata": {
        "id": "3vC72ah2kV_l",
        "colab_type": "text"
      },
      "source": [
        "Aplique la función de labelEncoder a las label_cols. Liste las primeras filas resultantes del conjunto de datos \"label_data\""
      ]
    },
    {
      "cell_type": "code",
      "metadata": {
        "id": "aDE6m4sBknPs",
        "colab_type": "code",
        "outputId": "e47ac049-3c01-4b58-81a6-92c6f5fae587",
        "colab": {
          "base_uri": "https://localhost:8080/",
          "height": 204
        }
      },
      "source": [
        "<FILL>\n",
        "\n",
        "data_selected.head()    \n"
      ],
      "execution_count": 36,
      "outputs": [
        {
          "output_type": "execute_result",
          "data": {
            "text/html": [
              "<div>\n",
              "<style scoped>\n",
              "    .dataframe tbody tr th:only-of-type {\n",
              "        vertical-align: middle;\n",
              "    }\n",
              "\n",
              "    .dataframe tbody tr th {\n",
              "        vertical-align: top;\n",
              "    }\n",
              "\n",
              "    .dataframe thead th {\n",
              "        text-align: right;\n",
              "    }\n",
              "</style>\n",
              "<table border=\"1\" class=\"dataframe\">\n",
              "  <thead>\n",
              "    <tr style=\"text-align: right;\">\n",
              "      <th></th>\n",
              "      <th>Survived</th>\n",
              "      <th>Pclass</th>\n",
              "      <th>Sex</th>\n",
              "      <th>Age</th>\n",
              "      <th>SibSp</th>\n",
              "      <th>Parch</th>\n",
              "      <th>Fare</th>\n",
              "      <th>Embarked</th>\n",
              "    </tr>\n",
              "  </thead>\n",
              "  <tbody>\n",
              "    <tr>\n",
              "      <th>0</th>\n",
              "      <td>0</td>\n",
              "      <td>3</td>\n",
              "      <td>1</td>\n",
              "      <td>22.0</td>\n",
              "      <td>1</td>\n",
              "      <td>0</td>\n",
              "      <td>7.2500</td>\n",
              "      <td>2</td>\n",
              "    </tr>\n",
              "    <tr>\n",
              "      <th>1</th>\n",
              "      <td>1</td>\n",
              "      <td>1</td>\n",
              "      <td>0</td>\n",
              "      <td>38.0</td>\n",
              "      <td>1</td>\n",
              "      <td>0</td>\n",
              "      <td>71.2833</td>\n",
              "      <td>0</td>\n",
              "    </tr>\n",
              "    <tr>\n",
              "      <th>2</th>\n",
              "      <td>1</td>\n",
              "      <td>3</td>\n",
              "      <td>0</td>\n",
              "      <td>26.0</td>\n",
              "      <td>0</td>\n",
              "      <td>0</td>\n",
              "      <td>7.9250</td>\n",
              "      <td>2</td>\n",
              "    </tr>\n",
              "    <tr>\n",
              "      <th>3</th>\n",
              "      <td>1</td>\n",
              "      <td>1</td>\n",
              "      <td>0</td>\n",
              "      <td>35.0</td>\n",
              "      <td>1</td>\n",
              "      <td>0</td>\n",
              "      <td>53.1000</td>\n",
              "      <td>2</td>\n",
              "    </tr>\n",
              "    <tr>\n",
              "      <th>4</th>\n",
              "      <td>0</td>\n",
              "      <td>3</td>\n",
              "      <td>1</td>\n",
              "      <td>35.0</td>\n",
              "      <td>0</td>\n",
              "      <td>0</td>\n",
              "      <td>8.0500</td>\n",
              "      <td>2</td>\n",
              "    </tr>\n",
              "  </tbody>\n",
              "</table>\n",
              "</div>"
            ],
            "text/plain": [
              "   Survived  Pclass  Sex   Age  SibSp  Parch     Fare  Embarked\n",
              "0         0       3    1  22.0      1      0   7.2500         2\n",
              "1         1       1    0  38.0      1      0  71.2833         0\n",
              "2         1       3    0  26.0      0      0   7.9250         2\n",
              "3         1       1    0  35.0      1      0  53.1000         2\n",
              "4         0       3    1  35.0      0      0   8.0500         2"
            ]
          },
          "metadata": {
            "tags": []
          },
          "execution_count": 36
        }
      ]
    },
    {
      "cell_type": "markdown",
      "metadata": {
        "id": "QPDFmaJAtED_",
        "colab_type": "text"
      },
      "source": [
        "Defina la columna objetivo en col_y y en features todas las columnas de data_selected, excepto la columna objetivo"
      ]
    },
    {
      "cell_type": "code",
      "metadata": {
        "id": "MiG6ioVSlWjB",
        "colab_type": "code",
        "outputId": "ae070ea4-d2b6-479f-b81e-208c21b29cfd",
        "colab": {
          "base_uri": "https://localhost:8080/",
          "height": 34
        }
      },
      "source": [
        "col_y=<FILL>\n",
        "features = [x for x in data_selected.columns if x != col_y]\n",
        "features"
      ],
      "execution_count": 37,
      "outputs": [
        {
          "output_type": "execute_result",
          "data": {
            "text/plain": [
              "['Pclass', 'Sex', 'Age', 'SibSp', 'Parch', 'Fare', 'Embarked']"
            ]
          },
          "metadata": {
            "tags": []
          },
          "execution_count": 37
        }
      ]
    },
    {
      "cell_type": "markdown",
      "metadata": {
        "id": "T9YZYc90npXU",
        "colab_type": "text"
      },
      "source": [
        "Defina \"y\", y X. "
      ]
    },
    {
      "cell_type": "code",
      "metadata": {
        "id": "Ks1srCYyUjfE",
        "colab_type": "code",
        "outputId": "d76630ef-1683-4a22-a7ac-c131c4507386",
        "colab": {
          "base_uri": "https://localhost:8080/",
          "height": 262
        }
      },
      "source": [
        "# target object y\n",
        "y = data_selected[<FILL>]\n",
        "# Create X\n",
        "X = data_selected[<FILL>]\n",
        "\n",
        "print(X.head)"
      ],
      "execution_count": 38,
      "outputs": [
        {
          "output_type": "stream",
          "text": [
            "<bound method NDFrame.head of      Pclass  Sex   Age  SibSp  Parch     Fare  Embarked\n",
            "0         3    1  22.0      1      0   7.2500         2\n",
            "1         1    0  38.0      1      0  71.2833         0\n",
            "2         3    0  26.0      0      0   7.9250         2\n",
            "3         1    0  35.0      1      0  53.1000         2\n",
            "4         3    1  35.0      0      0   8.0500         2\n",
            "..      ...  ...   ...    ...    ...      ...       ...\n",
            "885       3    0  39.0      0      5  29.1250         1\n",
            "886       2    1  27.0      0      0  13.0000         2\n",
            "887       1    0  19.0      0      0  30.0000         2\n",
            "889       1    1  26.0      0      0  30.0000         0\n",
            "890       3    1  32.0      0      0   7.7500         1\n",
            "\n",
            "[712 rows x 7 columns]>\n"
          ],
          "name": "stdout"
        }
      ]
    },
    {
      "cell_type": "markdown",
      "metadata": {
        "id": "0TVFw7bywqHc",
        "colab_type": "text"
      },
      "source": [
        "Defina las particiones para entrenamiento y de validación con semila=1 y dejando un 20% de filas para test. Imprima cuantas filas utilizará para entrenamiento y cuantas para validar"
      ]
    },
    {
      "cell_type": "code",
      "metadata": {
        "id": "FE8WkGeZVaWI",
        "colab_type": "code",
        "colab": {}
      },
      "source": [
        "# Split into validation and training data\n",
        "train_X, val_X, train_y, val_y = <FILL>"
      ],
      "execution_count": 0,
      "outputs": []
    },
    {
      "cell_type": "code",
      "metadata": {
        "id": "Hcy3i2DNvWUH",
        "colab_type": "code",
        "outputId": "73a47f99-c4e2-4815-a61a-235d2272960a",
        "colab": {
          "base_uri": "https://localhost:8080/",
          "height": 157
        }
      },
      "source": [
        "print(train_X.count())\n"
      ],
      "execution_count": 40,
      "outputs": [
        {
          "output_type": "stream",
          "text": [
            "Pclass      569\n",
            "Sex         569\n",
            "Age         569\n",
            "SibSp       569\n",
            "Parch       569\n",
            "Fare        569\n",
            "Embarked    569\n",
            "dtype: int64\n"
          ],
          "name": "stdout"
        }
      ]
    },
    {
      "cell_type": "markdown",
      "metadata": {
        "id": "JwKS0G2FxDsg",
        "colab_type": "text"
      },
      "source": [
        ""
      ]
    },
    {
      "cell_type": "code",
      "metadata": {
        "id": "f4RMHGjzxIo7",
        "colab_type": "code",
        "outputId": "c6f533a7-0010-4a04-d628-1b1d5dba396c",
        "colab": {
          "base_uri": "https://localhost:8080/",
          "height": 34
        }
      },
      "source": [
        "print(<FILL>)"
      ],
      "execution_count": 41,
      "outputs": [
        {
          "output_type": "stream",
          "text": [
            "143\n"
          ],
          "name": "stdout"
        }
      ]
    },
    {
      "cell_type": "markdown",
      "metadata": {
        "id": "gIFxf9nVxUlW",
        "colab_type": "text"
      },
      "source": [
        "## Definición del modelo"
      ]
    },
    {
      "cell_type": "markdown",
      "metadata": {
        "id": "9VbcjQ_LxgnU",
        "colab_type": "text"
      },
      "source": [
        "Defina el modelo utilizando LogisticRegression con semilla=1"
      ]
    },
    {
      "cell_type": "code",
      "metadata": {
        "id": "JQXRHYwAVw6i",
        "colab_type": "code",
        "colab": {}
      },
      "source": [
        "titanic = <FILL>\n",
        "\n",
        "\n"
      ],
      "execution_count": 0,
      "outputs": []
    },
    {
      "cell_type": "markdown",
      "metadata": {
        "id": "bgp6FZWExy95",
        "colab_type": "text"
      },
      "source": [
        "Entrene el modelo. Aumente el numero de iteraciones si obtiene un error."
      ]
    },
    {
      "cell_type": "code",
      "metadata": {
        "id": "0OPg5lRhx7hW",
        "colab_type": "code",
        "outputId": "63f5f445-85bb-4b73-b533-6d88c0f1447c",
        "colab": {
          "base_uri": "https://localhost:8080/",
          "height": 104
        }
      },
      "source": [
        "# Fit Model\n",
        "titanic.<FILL>"
      ],
      "execution_count": 43,
      "outputs": [
        {
          "output_type": "execute_result",
          "data": {
            "text/plain": [
              "LogisticRegression(C=1.0, class_weight=None, dual=False, fit_intercept=True,\n",
              "                   intercept_scaling=1, l1_ratio=None, max_iter=1000,\n",
              "                   multi_class='multinomial', n_jobs=None, penalty='l2',\n",
              "                   random_state=1, solver='lbfgs', tol=0.0001, verbose=0,\n",
              "                   warm_start=False)"
            ]
          },
          "metadata": {
            "tags": []
          },
          "execution_count": 43
        }
      ]
    },
    {
      "cell_type": "markdown",
      "metadata": {
        "id": "1HBu_ZiAyfO9",
        "colab_type": "text"
      },
      "source": [
        "## Predicción y validación del modelo "
      ]
    },
    {
      "cell_type": "markdown",
      "metadata": {
        "id": "bccY66GfzJCH",
        "colab_type": "text"
      },
      "source": [
        "Utilice el modelo para realizar las predicciones con los datos de validación y calcule el valor \"score\" o \"accuracy\" "
      ]
    },
    {
      "cell_type": "code",
      "metadata": {
        "id": "-hGydPMH0Ohd",
        "colab_type": "code",
        "outputId": "7d6f052b-b34b-4c21-f645-9647b5ccd190",
        "colab": {
          "base_uri": "https://localhost:8080/",
          "height": 52
        }
      },
      "source": [
        "from sklearn import metrics\n",
        "val_predictions = titanic.<FILL>\n",
        "score=round(<FILL>)\n",
        "print(\"Score datos validación %f\" %score)\n",
        "print(\"Accuracy:\",metrics.accuracy_score(<FILL>))"
      ],
      "execution_count": 44,
      "outputs": [
        {
          "output_type": "stream",
          "text": [
            "Score datos validación 0.755200\n",
            "Accuracy: 0.7552447552447552\n"
          ],
          "name": "stdout"
        }
      ]
    },
    {
      "cell_type": "code",
      "metadata": {
        "id": "Gf5WzveI8jM5",
        "colab_type": "code",
        "colab": {}
      },
      "source": [
        "assert round(score*100)==76,\"Error en resultado de score\""
      ],
      "execution_count": 0,
      "outputs": []
    },
    {
      "cell_type": "markdown",
      "metadata": {
        "id": "2sDcEZbEQzYm",
        "colab_type": "text"
      },
      "source": [
        "Calcule los resultados utilizando random forest con 1000 estimadores y max_depth=10, y semilla=1"
      ]
    },
    {
      "cell_type": "code",
      "metadata": {
        "id": "pomaEc5mA0_1",
        "colab_type": "code",
        "outputId": "3045b45b-54c5-4008-8ce8-4b8b65924765",
        "colab": {
          "base_uri": "https://localhost:8080/",
          "height": 34
        }
      },
      "source": [
        "RF = RandomForestClassifier(<FILL>)\n",
        "RF.predict(<FILL>)\n",
        "round(RF.score(<FILL>)\n"
      ],
      "execution_count": 46,
      "outputs": [
        {
          "output_type": "execute_result",
          "data": {
            "text/plain": [
              "0.8112"
            ]
          },
          "metadata": {
            "tags": []
          },
          "execution_count": 46
        }
      ]
    },
    {
      "cell_type": "markdown",
      "metadata": {
        "id": "1JpqwNZzCPee",
        "colab_type": "text"
      },
      "source": [
        "Calcule los resultados del modelo utilizando Multi-Class Classification utilizando solver='lbfgs' y un max_iter=1000"
      ]
    },
    {
      "cell_type": "code",
      "metadata": {
        "id": "VRCF0YLQBmmG",
        "colab_type": "code",
        "outputId": "57632a89-e408-444e-ab68-6763674b73e9",
        "colab": {
          "base_uri": "https://localhost:8080/",
          "height": 34
        }
      },
      "source": [
        "NN = MLPClassifier(<FILL>y)\n",
        "NN.predict(<FILL>)\n",
        "round(NN.score(<FILL>)"
      ],
      "execution_count": 47,
      "outputs": [
        {
          "output_type": "execute_result",
          "data": {
            "text/plain": [
              "0.5944"
            ]
          },
          "metadata": {
            "tags": []
          },
          "execution_count": 47
        }
      ]
    },
    {
      "cell_type": "markdown",
      "metadata": {
        "id": "yDsExLOsCjIg",
        "colab_type": "text"
      },
      "source": [
        "## Resultados finales"
      ]
    },
    {
      "cell_type": "markdown",
      "metadata": {
        "id": "7kTeLLwu1s2O",
        "colab_type": "text"
      },
      "source": [
        "Utilice el mejor modelo obtenido y calcule el score con todos los datos "
      ]
    },
    {
      "cell_type": "code",
      "metadata": {
        "id": "evdY3sFR1_dX",
        "colab_type": "code",
        "outputId": "99b5e6e5-4308-4e43-967d-53c74b3d4b66",
        "colab": {
          "base_uri": "https://localhost:8080/",
          "height": 34
        }
      },
      "source": [
        "RF.predict(<FILL>)\n",
        "score=round(<FILL>)\n",
        "round(score,2)\n"
      ],
      "execution_count": 48,
      "outputs": [
        {
          "output_type": "execute_result",
          "data": {
            "text/plain": [
              "0.93"
            ]
          },
          "metadata": {
            "tags": []
          },
          "execution_count": 48
        }
      ]
    },
    {
      "cell_type": "code",
      "metadata": {
        "id": "pJ_q9zVUAkPY",
        "colab_type": "code",
        "colab": {}
      },
      "source": [
        "assert round(score,2)*100==93,\"Error en resultado de porcentaje de error\""
      ],
      "execution_count": 0,
      "outputs": []
    }
  ]
}