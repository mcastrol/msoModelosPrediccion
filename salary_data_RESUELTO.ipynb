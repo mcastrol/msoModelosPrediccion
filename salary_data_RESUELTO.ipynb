{
  "nbformat": 4,
  "nbformat_minor": 0,
  "metadata": {
    "colab": {
      "name": "salary_data_RESUELTO.ipynb",
      "provenance": [],
      "collapsed_sections": [],
      "toc_visible": true
    },
    "kernelspec": {
      "name": "python3",
      "display_name": "Python 3"
    }
  },
  "cells": [
    {
      "cell_type": "markdown",
      "metadata": {
        "id": "DHnpKLcboJZq",
        "colab_type": "text"
      },
      "source": [
        "## **Modelo de Regresión**\n",
        "El objetivo de este ejercicio es encontrar un modelo de regresion lineal que permita predecir el salario segun los años de experiencia.\n",
        "\n",
        "Utilizaremos el algoritmo de \"LinearRegression\"  \n",
        "https://scikit-learn.org/stable/modules/generated/sklearn.linear_model.LinearRegression.html\n"
      ]
    },
    {
      "cell_type": "code",
      "metadata": {
        "id": "7spIHKpmm8V5",
        "colab_type": "code",
        "colab": {}
      },
      "source": [
        "import pandas as pd\n",
        "from sklearn.metrics import mean_absolute_error\n",
        "from sklearn.model_selection import train_test_split\n",
        "from sklearn.linear_model import LinearRegression\n",
        "import matplotlib.pyplot as plt\n",
        "\n"
      ],
      "execution_count": 0,
      "outputs": []
    },
    {
      "cell_type": "markdown",
      "metadata": {
        "id": "ewjkVV_XpL3J",
        "colab_type": "text"
      },
      "source": [
        "## Lectura de datos y exploración"
      ]
    },
    {
      "cell_type": "markdown",
      "metadata": {
        "id": "sb_yfojaozWr",
        "colab_type": "text"
      },
      "source": [
        "Leer el fichero de datos "
      ]
    },
    {
      "cell_type": "code",
      "metadata": {
        "id": "vGXVwsmgTZbO",
        "colab_type": "code",
        "colab": {}
      },
      "source": [
        "file_path = 'salary_data.csv'\n",
        "data = pd.read_csv(file_path)"
      ],
      "execution_count": 0,
      "outputs": []
    },
    {
      "cell_type": "markdown",
      "metadata": {
        "id": "plmniYX2pvUu",
        "colab_type": "text"
      },
      "source": [
        "Listar las primeras filas del fichero para ver los datos"
      ]
    },
    {
      "cell_type": "code",
      "metadata": {
        "id": "msZ1la2yUWTl",
        "colab_type": "code",
        "outputId": "f6fede65-308c-41c6-d71c-07d19904eb57",
        "colab": {
          "base_uri": "https://localhost:8080/",
          "height": 202
        }
      },
      "source": [
        "data.head()"
      ],
      "execution_count": 4,
      "outputs": [
        {
          "output_type": "execute_result",
          "data": {
            "text/html": [
              "<div>\n",
              "<style scoped>\n",
              "    .dataframe tbody tr th:only-of-type {\n",
              "        vertical-align: middle;\n",
              "    }\n",
              "\n",
              "    .dataframe tbody tr th {\n",
              "        vertical-align: top;\n",
              "    }\n",
              "\n",
              "    .dataframe thead th {\n",
              "        text-align: right;\n",
              "    }\n",
              "</style>\n",
              "<table border=\"1\" class=\"dataframe\">\n",
              "  <thead>\n",
              "    <tr style=\"text-align: right;\">\n",
              "      <th></th>\n",
              "      <th>YearsExperience</th>\n",
              "      <th>Salary</th>\n",
              "    </tr>\n",
              "  </thead>\n",
              "  <tbody>\n",
              "    <tr>\n",
              "      <th>0</th>\n",
              "      <td>1.1</td>\n",
              "      <td>39343</td>\n",
              "    </tr>\n",
              "    <tr>\n",
              "      <th>1</th>\n",
              "      <td>1.3</td>\n",
              "      <td>46205</td>\n",
              "    </tr>\n",
              "    <tr>\n",
              "      <th>2</th>\n",
              "      <td>1.5</td>\n",
              "      <td>37731</td>\n",
              "    </tr>\n",
              "    <tr>\n",
              "      <th>3</th>\n",
              "      <td>2.0</td>\n",
              "      <td>43525</td>\n",
              "    </tr>\n",
              "    <tr>\n",
              "      <th>4</th>\n",
              "      <td>2.2</td>\n",
              "      <td>39891</td>\n",
              "    </tr>\n",
              "  </tbody>\n",
              "</table>\n",
              "</div>"
            ],
            "text/plain": [
              "   YearsExperience  Salary\n",
              "0              1.1   39343\n",
              "1              1.3   46205\n",
              "2              1.5   37731\n",
              "3              2.0   43525\n",
              "4              2.2   39891"
            ]
          },
          "metadata": {
            "tags": []
          },
          "execution_count": 4
        }
      ]
    },
    {
      "cell_type": "markdown",
      "metadata": {
        "id": "C497uuSrqEgs",
        "colab_type": "text"
      },
      "source": [
        "¿cuantas filas y columnas tienen los datos?\n"
      ]
    },
    {
      "cell_type": "code",
      "metadata": {
        "id": "VBaRrgh-qQx5",
        "colab_type": "code",
        "outputId": "7ac61fa8-8a12-4ff6-8554-d2028116f2c2",
        "colab": {
          "base_uri": "https://localhost:8080/",
          "height": 35
        }
      },
      "source": [
        "data.shape"
      ],
      "execution_count": 5,
      "outputs": [
        {
          "output_type": "execute_result",
          "data": {
            "text/plain": [
              "(30, 2)"
            ]
          },
          "metadata": {
            "tags": []
          },
          "execution_count": 5
        }
      ]
    },
    {
      "cell_type": "markdown",
      "metadata": {
        "id": "cA8BIlbIrjwV",
        "colab_type": "text"
      },
      "source": [
        "Explore la cantidad de registros, la media, el desvio y los cuartiles de las columnas numéricas."
      ]
    },
    {
      "cell_type": "code",
      "metadata": {
        "id": "V3N_RLzdUeqS",
        "colab_type": "code",
        "outputId": "55187056-bfb7-4b12-c251-f1fa42245123",
        "colab": {
          "base_uri": "https://localhost:8080/",
          "height": 294
        }
      },
      "source": [
        "data.describe()"
      ],
      "execution_count": 6,
      "outputs": [
        {
          "output_type": "execute_result",
          "data": {
            "text/html": [
              "<div>\n",
              "<style scoped>\n",
              "    .dataframe tbody tr th:only-of-type {\n",
              "        vertical-align: middle;\n",
              "    }\n",
              "\n",
              "    .dataframe tbody tr th {\n",
              "        vertical-align: top;\n",
              "    }\n",
              "\n",
              "    .dataframe thead th {\n",
              "        text-align: right;\n",
              "    }\n",
              "</style>\n",
              "<table border=\"1\" class=\"dataframe\">\n",
              "  <thead>\n",
              "    <tr style=\"text-align: right;\">\n",
              "      <th></th>\n",
              "      <th>YearsExperience</th>\n",
              "      <th>Salary</th>\n",
              "    </tr>\n",
              "  </thead>\n",
              "  <tbody>\n",
              "    <tr>\n",
              "      <th>count</th>\n",
              "      <td>30.000000</td>\n",
              "      <td>30.000000</td>\n",
              "    </tr>\n",
              "    <tr>\n",
              "      <th>mean</th>\n",
              "      <td>5.313333</td>\n",
              "      <td>76003.000000</td>\n",
              "    </tr>\n",
              "    <tr>\n",
              "      <th>std</th>\n",
              "      <td>2.837888</td>\n",
              "      <td>27414.429785</td>\n",
              "    </tr>\n",
              "    <tr>\n",
              "      <th>min</th>\n",
              "      <td>1.100000</td>\n",
              "      <td>37731.000000</td>\n",
              "    </tr>\n",
              "    <tr>\n",
              "      <th>25%</th>\n",
              "      <td>3.200000</td>\n",
              "      <td>56720.750000</td>\n",
              "    </tr>\n",
              "    <tr>\n",
              "      <th>50%</th>\n",
              "      <td>4.700000</td>\n",
              "      <td>65237.000000</td>\n",
              "    </tr>\n",
              "    <tr>\n",
              "      <th>75%</th>\n",
              "      <td>7.700000</td>\n",
              "      <td>100544.750000</td>\n",
              "    </tr>\n",
              "    <tr>\n",
              "      <th>max</th>\n",
              "      <td>10.500000</td>\n",
              "      <td>122391.000000</td>\n",
              "    </tr>\n",
              "  </tbody>\n",
              "</table>\n",
              "</div>"
            ],
            "text/plain": [
              "       YearsExperience         Salary\n",
              "count        30.000000      30.000000\n",
              "mean          5.313333   76003.000000\n",
              "std           2.837888   27414.429785\n",
              "min           1.100000   37731.000000\n",
              "25%           3.200000   56720.750000\n",
              "50%           4.700000   65237.000000\n",
              "75%           7.700000  100544.750000\n",
              "max          10.500000  122391.000000"
            ]
          },
          "metadata": {
            "tags": []
          },
          "execution_count": 6
        }
      ]
    },
    {
      "cell_type": "markdown",
      "metadata": {
        "id": "3nR1R8pusjtW",
        "colab_type": "text"
      },
      "source": [
        "## Preparación de los datos"
      ]
    },
    {
      "cell_type": "markdown",
      "metadata": {
        "id": "QPDFmaJAtED_",
        "colab_type": "text"
      },
      "source": [
        "Defina la columna objetivo a predecir en \"y\"  y \"X\" el dataframe con las características que se utilizarán para definir el modelo. Tenga en cuenta que solo se utilizarán las columnas numéricas."
      ]
    },
    {
      "cell_type": "code",
      "metadata": {
        "id": "Ks1srCYyUjfE",
        "colab_type": "code",
        "colab": {}
      },
      "source": [
        "# target object y\n",
        "y = data[\"Salary\"]\n",
        "# Create X\n",
        "features=[\"YearsExperience\"]\n",
        "X = data[features]\n"
      ],
      "execution_count": 0,
      "outputs": []
    },
    {
      "cell_type": "markdown",
      "metadata": {
        "id": "0TVFw7bywqHc",
        "colab_type": "text"
      },
      "source": [
        "Defina las particiones para entrenamiento y de validación con semila=1 e imprima cuantas filas utilizará para entrenamiento y cuantas para validar"
      ]
    },
    {
      "cell_type": "code",
      "metadata": {
        "id": "FE8WkGeZVaWI",
        "colab_type": "code",
        "colab": {}
      },
      "source": [
        "# Split into validation and training data\n",
        "train_X, val_X, train_y, val_y = train_test_split(X, y, random_state=1)"
      ],
      "execution_count": 0,
      "outputs": []
    },
    {
      "cell_type": "code",
      "metadata": {
        "id": "Hcy3i2DNvWUH",
        "colab_type": "code",
        "outputId": "374c581e-df52-48e9-94c1-ccfdaa3a5c9b",
        "colab": {
          "base_uri": "https://localhost:8080/",
          "height": 52
        }
      },
      "source": [
        "print(train_X.count())\n"
      ],
      "execution_count": 10,
      "outputs": [
        {
          "output_type": "stream",
          "text": [
            "YearsExperience    22\n",
            "dtype: int64\n"
          ],
          "name": "stdout"
        }
      ]
    },
    {
      "cell_type": "markdown",
      "metadata": {
        "id": "JwKS0G2FxDsg",
        "colab_type": "text"
      },
      "source": [
        ""
      ]
    },
    {
      "cell_type": "code",
      "metadata": {
        "id": "f4RMHGjzxIo7",
        "colab_type": "code",
        "outputId": "840f9019-8f49-4fc9-f27d-ca817fc35dee",
        "colab": {
          "base_uri": "https://localhost:8080/",
          "height": 35
        }
      },
      "source": [
        "print(val_y.count())"
      ],
      "execution_count": 11,
      "outputs": [
        {
          "output_type": "stream",
          "text": [
            "8\n"
          ],
          "name": "stdout"
        }
      ]
    },
    {
      "cell_type": "markdown",
      "metadata": {
        "id": "gIFxf9nVxUlW",
        "colab_type": "text"
      },
      "source": [
        "## Definición del modelo"
      ]
    },
    {
      "cell_type": "markdown",
      "metadata": {
        "id": "9VbcjQ_LxgnU",
        "colab_type": "text"
      },
      "source": [
        "Defina el modelo utilizando regresion Lineal"
      ]
    },
    {
      "cell_type": "code",
      "metadata": {
        "id": "JQXRHYwAVw6i",
        "colab_type": "code",
        "colab": {}
      },
      "source": [
        "#Specify Model\n",
        "salary = LinearRegression()\n"
      ],
      "execution_count": 0,
      "outputs": []
    },
    {
      "cell_type": "markdown",
      "metadata": {
        "id": "bgp6FZWExy95",
        "colab_type": "text"
      },
      "source": [
        "Entrene el modelo "
      ]
    },
    {
      "cell_type": "code",
      "metadata": {
        "id": "0OPg5lRhx7hW",
        "colab_type": "code",
        "outputId": "642a14eb-901d-4f70-faf6-a672c330d805",
        "colab": {
          "base_uri": "https://localhost:8080/",
          "height": 35
        }
      },
      "source": [
        "# Fit Model\n",
        "salary.fit(train_X, train_y)"
      ],
      "execution_count": 13,
      "outputs": [
        {
          "output_type": "execute_result",
          "data": {
            "text/plain": [
              "LinearRegression(copy_X=True, fit_intercept=True, n_jobs=None, normalize=False)"
            ]
          },
          "metadata": {
            "tags": []
          },
          "execution_count": 13
        }
      ]
    },
    {
      "cell_type": "markdown",
      "metadata": {
        "id": "18iFTEV1wbtv",
        "colab_type": "text"
      },
      "source": [
        "¿Cuales son los coreficientes del modelo de regresion?"
      ]
    },
    {
      "cell_type": "code",
      "metadata": {
        "id": "DlT_AYHWwsbS",
        "colab_type": "code",
        "outputId": "0569e06b-f75d-4bf9-ed7d-8a78ded8dab1",
        "colab": {
          "base_uri": "https://localhost:8080/",
          "height": 35
        }
      },
      "source": [
        "salary.coef_\n"
      ],
      "execution_count": 14,
      "outputs": [
        {
          "output_type": "execute_result",
          "data": {
            "text/plain": [
              "array([9261.56845302])"
            ]
          },
          "metadata": {
            "tags": []
          },
          "execution_count": 14
        }
      ]
    },
    {
      "cell_type": "markdown",
      "metadata": {
        "id": "BDXBOja5xNwY",
        "colab_type": "text"
      },
      "source": [
        "Grafique los resultados del modelo y los datos de entrenamiento"
      ]
    },
    {
      "cell_type": "code",
      "metadata": {
        "id": "afq81eNoxVsb",
        "colab_type": "code",
        "outputId": "0cc6f1d9-c408-4f47-d4bb-4fed37ffeee8",
        "colab": {
          "base_uri": "https://localhost:8080/",
          "height": 295
        }
      },
      "source": [
        "# Visualizing the Training set results\n",
        "plt.scatter(train_X, train_y, color='red')\n",
        "plt.plot(train_X, salary.predict(train_X), color='blue')\n",
        "plt.title('Salary VS Experience (Training set)')\n",
        "plt.xlabel('Year of Experience')\n",
        "plt.ylabel('Salary')\n",
        "plt.show()\n"
      ],
      "execution_count": 15,
      "outputs": [
        {
          "output_type": "display_data",
          "data": {
            "image/png": "[encoded data removed]",
            "text/plain": [
              "<Figure size 432x288 with 1 Axes>"
            ]
          },
          "metadata": {
            "tags": [],
            "needs_background": "light"
          }
        }
      ]
    },
    {
      "cell_type": "markdown",
      "metadata": {
        "id": "51SbcYuLzNIt",
        "colab_type": "text"
      },
      "source": [
        "Grafique el modelo con los datos de test"
      ]
    },
    {
      "cell_type": "code",
      "metadata": {
        "id": "Xky1Eegpzu4d",
        "colab_type": "code",
        "outputId": "415c221f-28ce-48c5-dffd-fcdc7859c1a8",
        "colab": {
          "base_uri": "https://localhost:8080/",
          "height": 295
        }
      },
      "source": [
        "plt.scatter(val_X, val_y, color='red')\n",
        "plt.plot(train_X, salary.predict(train_X), color='blue')\n",
        "plt.title('Salary VS Experience (Training set)')\n",
        "plt.xlabel('Year of Experience')\n",
        "plt.ylabel('Salary')\n",
        "plt.show()"
      ],
      "execution_count": 18,
      "outputs": [
        {
          "output_type": "display_data",
          "data": {
            "image/png": "[encoded data removed]",
            "text/plain": [
              "<Figure size 432x288 with 1 Axes>"
            ]
          },
          "metadata": {
            "tags": [],
            "needs_background": "light"
          }
        }
      ]
    },
    {
      "cell_type": "markdown",
      "metadata": {
        "id": "1HBu_ZiAyfO9",
        "colab_type": "text"
      },
      "source": [
        "## Predicción y validación del modelo "
      ]
    },
    {
      "cell_type": "markdown",
      "metadata": {
        "id": "bccY66GfzJCH",
        "colab_type": "text"
      },
      "source": [
        "Utilice el modelo para realizar las predicciones con los datos de validación y calcule el valor MAE (mean absolute error) obtenido sin haber indicado la cantidad de hojas (max_leaf_nodes)."
      ]
    },
    {
      "cell_type": "code",
      "metadata": {
        "id": "-hGydPMH0Ohd",
        "colab_type": "code",
        "outputId": "9910e404-cc91-4148-c0aa-8ab35f4b0a3e",
        "colab": {
          "base_uri": "https://localhost:8080/",
          "height": 35
        }
      },
      "source": [
        "val_predictions = salary.predict(val_X)\n",
        "val_mae = mean_absolute_error(val_predictions, val_y)\n",
        "print(\"Validation MAE %f\" %val_mae)"
      ],
      "execution_count": 19,
      "outputs": [
        {
          "output_type": "stream",
          "text": [
            "Validation MAE 5215.553723\n"
          ],
          "name": "stdout"
        }
      ]
    },
    {
      "cell_type": "code",
      "metadata": {
        "id": "diMvQUKO1hJ2",
        "colab_type": "code",
        "outputId": "fdb06dfb-2e99-403f-8d61-6410248a2d78",
        "colab": {
          "base_uri": "https://localhost:8080/",
          "height": 208
        }
      },
      "source": [
        "print(val_X)\n",
        "print(val_predictions)"
      ],
      "execution_count": 20,
      "outputs": [
        {
          "output_type": "stream",
          "text": [
            "    YearsExperience\n",
            "17              5.3\n",
            "21              7.1\n",
            "10              3.9\n",
            "19              6.0\n",
            "14              4.5\n",
            "20              6.8\n",
            "26              9.5\n",
            "3               2.0\n",
            "[ 74978.61852009  91649.44173553  62012.42268586  81461.7164372\n",
            "  67569.36375767  88870.97119962 113877.20602278  44415.44262512]\n"
          ],
          "name": "stdout"
        }
      ]
    },
    {
      "cell_type": "markdown",
      "metadata": {
        "id": "owK6RPQl4bIu",
        "colab_type": "text"
      },
      "source": [
        "¿Cuanto cobrará con 5, 10, 15, 20 años de experiencia?"
      ]
    },
    {
      "cell_type": "code",
      "metadata": {
        "id": "nprKDyue0YKd",
        "colab_type": "code",
        "outputId": "2d65e962-bc45-48cb-c9d1-c7a8f4e6c9d5",
        "colab": {
          "base_uri": "https://localhost:8080/",
          "height": 52
        }
      },
      "source": [
        "X_custom = pd.DataFrame({'YearsExperience':[5,10,15,20,30]})\n",
        "val_predict_custom=salary.predict(X_custom)\n",
        "print(val_predict_custom)"
      ],
      "execution_count": 21,
      "outputs": [
        {
          "output_type": "stream",
          "text": [
            "[ 72200.14798418 118507.99024929 164815.8325144  211123.67477951\n",
            " 303739.35930974]\n"
          ],
          "name": "stdout"
        }
      ]
    },
    {
      "cell_type": "markdown",
      "metadata": {
        "id": "Rk_6N04n4uvr",
        "colab_type": "text"
      },
      "source": [
        "Calcular las predicciones con todos los datos, el MAE total y el porcentaje de error respecto a la media de los valores"
      ]
    },
    {
      "cell_type": "code",
      "metadata": {
        "id": "R2UjkwxU4tL3",
        "colab_type": "code",
        "outputId": "cf93f7dd-e65a-4feb-cfb7-44853bab7536",
        "colab": {
          "base_uri": "https://localhost:8080/",
          "height": 69
        }
      },
      "source": [
        "pred_tot=salary.predict(X)\n",
        "mae=mean_absolute_error(pred_tot, y)\n",
        "print(mae)\n",
        "print(y.mean())\n",
        "print((mae / y.mean())*100)"
      ],
      "execution_count": 22,
      "outputs": [
        {
          "output_type": "stream",
          "text": [
            "4719.387594431744\n",
            "76003.0\n",
            "6.209475408117764\n"
          ],
          "name": "stdout"
        }
      ]
    },
    {
      "cell_type": "markdown",
      "metadata": {
        "id": "ZGBqOHH25A7_",
        "colab_type": "text"
      },
      "source": [
        "Explore al menos 10 valores calculados con la predicción y compare con los valore originales"
      ]
    },
    {
      "cell_type": "code",
      "metadata": {
        "id": "KveJ_jb7WqlW",
        "colab_type": "code",
        "outputId": "683a3eb4-236a-471e-f890-e84c5c0c63be",
        "colab": {
          "base_uri": "https://localhost:8080/",
          "height": 191
        }
      },
      "source": [
        "#imprimir en una linea los \n",
        "j=0\n",
        "for i in range(10): \n",
        "    print(\"real value: {} predicted value: {} Dif: {} \".format(pred_tot[i],y[j],pred_tot[i]- y[j]))\n",
        "    j=j+1"
      ],
      "execution_count": 23,
      "outputs": [
        {
          "output_type": "stream",
          "text": [
            "real value: 36080.03101739561 predicted value: 39343 Dif: -3262.9689826043905 \n",
            "real value: 37932.34470800003 predicted value: 46205 Dif: -8272.655291999967 \n",
            "real value: 39784.65839860447 predicted value: 37731 Dif: 2053.6583986044716 \n",
            "real value: 44415.44262511555 predicted value: 43525 Dif: 890.4426251155528 \n",
            "real value: 46267.756315719984 predicted value: 39891 Dif: 6376.756315719984 \n",
            "real value: 52750.854232835496 predicted value: 56642 Dif: -3891.145767164504 \n",
            "real value: 53677.01107813771 predicted value: 60150 Dif: -6472.988921862292 \n",
            "real value: 55529.32476874214 predicted value: 54445 Dif: 1084.324768742139 \n",
            "real value: 55529.32476874214 predicted value: 64445 Dif: -8915.675231257861 \n",
            "real value: 60160.10899525323 predicted value: 57189 Dif: 2971.1089952532275 \n"
          ],
          "name": "stdout"
        }
      ]
    }
  ]
}