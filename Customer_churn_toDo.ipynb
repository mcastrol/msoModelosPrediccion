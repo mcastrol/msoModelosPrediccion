{
  "nbformat": 4,
  "nbformat_minor": 0,
  "metadata": {
    "colab": {
      "name": "Customer_churn_toDo.ipynb",
      "provenance": [],
      "collapsed_sections": [],
      "toc_visible": true
    },
    "kernelspec": {
      "name": "python3",
      "display_name": "Python 3"
    }
  },
  "cells": [
    {
      "cell_type": "markdown",
      "metadata": {
        "id": "DHnpKLcboJZq",
        "colab_type": "text"
      },
      "source": [
        "## **Modelo de Clasificación**\n",
        "El objetivo de este ejercicio es encontrar un modelo que permita predecir si un cliente cancelará o no el servicio al que se ha abonado (churn).\n",
        "\n",
        "https://es.wikipedia.org/wiki/Tasa_de_cancelaci%C3%B3n_de_clientes\n",
        "\n",
        "Utilizaremos los modelos de clasificación RandomForest, Regresion Logística,  y clasificación MultiClass. \n",
        "Revisaremos como utilizar una característica \"timestamp\"\n",
        "\n",
        "https://scikit-learn.org/stable/modules/generated/sklearn.ensemble.RandomForestClassifier.html\n",
        "\n",
        "https://scikit-learn.org/stable/modules/generated/sklearn.linear_model.LogisticRegression.html\n",
        "https://scikit-learn.org/stable/modules/generated/sklearn.neural_network.MLPClassifier.html"
      ]
    },
    {
      "cell_type": "code",
      "metadata": {
        "id": "7spIHKpmm8V5",
        "colab_type": "code",
        "colab": {}
      },
      "source": [
        "import pandas as pd\n",
        "from sklearn.ensemble import RandomForestClassifier\n",
        "from sklearn.neural_network import MLPClassifier\n",
        "from sklearn.metrics import mean_absolute_error\n",
        "from sklearn.model_selection import train_test_split\n",
        "from sklearn.linear_model import LogisticRegression\n",
        "from sklearn.preprocessing import LabelEncoder\n",
        "from sklearn import metrics\n",
        "\n",
        "\n"
      ],
      "execution_count": 0,
      "outputs": []
    },
    {
      "cell_type": "markdown",
      "metadata": {
        "id": "gVEQeGa6cKMo",
        "colab_type": "text"
      },
      "source": [
        "Ayudas:\n",
        "\n",
        "1. Indicar en la lectura del fichero csv que columna(s) se tratan como \"datetime\". Ejemplo, \"Onboard_date\"\n",
        "\n",
        "data = pd.read_csv(file_path, parse_dates=[\"Onboard_date\"])\n",
        "\n",
        "2. Convertir la columna tipo \"datetime\" en numérica utilizando la función \"toordinal\"\n",
        "\n",
        "from datetime import datetime\n",
        "X['Onboard_date']=X['Onboard_date'].apply(datetime.toordinal)\n",
        "\n"
      ]
    },
    {
      "cell_type": "markdown",
      "metadata": {
        "id": "ewjkVV_XpL3J",
        "colab_type": "text"
      },
      "source": [
        "## Lectura de datos y exploración"
      ]
    },
    {
      "cell_type": "markdown",
      "metadata": {
        "id": "sb_yfojaozWr",
        "colab_type": "text"
      },
      "source": [
        "Leer el fichero de datos \"*Ecommerce_Customers*.csv\". Incluya la cláusula  parse_dates=[\"Onboard_date\"] para convertir la columna a timpo timestamp."
      ]
    },
    {
      "cell_type": "code",
      "metadata": {
        "id": "vGXVwsmgTZbO",
        "colab_type": "code",
        "colab": {}
      },
      "source": [
        "file_path = <FILL>\n",
        "data = pd.read_csv(<FILL>)"
      ],
      "execution_count": 0,
      "outputs": []
    },
    {
      "cell_type": "markdown",
      "metadata": {
        "id": "plmniYX2pvUu",
        "colab_type": "text"
      },
      "source": [
        "Listar las primeras filas del fichero para ver los datos"
      ]
    },
    {
      "cell_type": "code",
      "metadata": {
        "id": "msZ1la2yUWTl",
        "colab_type": "code",
        "outputId": "d2f844d0-0def-4213-a4fd-805b6ba4ab62",
        "colab": {
          "base_uri": "https://localhost:8080/",
          "height": 204
        }
      },
      "source": [
        "<FILL>"
      ],
      "execution_count": 23,
      "outputs": [
        {
          "output_type": "execute_result",
          "data": {
            "text/html": [
              "<div>\n",
              "<style scoped>\n",
              "    .dataframe tbody tr th:only-of-type {\n",
              "        vertical-align: middle;\n",
              "    }\n",
              "\n",
              "    .dataframe tbody tr th {\n",
              "        vertical-align: top;\n",
              "    }\n",
              "\n",
              "    .dataframe thead th {\n",
              "        text-align: right;\n",
              "    }\n",
              "</style>\n",
              "<table border=\"1\" class=\"dataframe\">\n",
              "  <thead>\n",
              "    <tr style=\"text-align: right;\">\n",
              "      <th></th>\n",
              "      <th>Names</th>\n",
              "      <th>Age</th>\n",
              "      <th>Total_Purchase</th>\n",
              "      <th>Account_Manager</th>\n",
              "      <th>Years</th>\n",
              "      <th>Num_Sites</th>\n",
              "      <th>Onboard_date</th>\n",
              "      <th>Location</th>\n",
              "      <th>Company</th>\n",
              "      <th>Churn</th>\n",
              "    </tr>\n",
              "  </thead>\n",
              "  <tbody>\n",
              "    <tr>\n",
              "      <th>0</th>\n",
              "      <td>Cameron Williams</td>\n",
              "      <td>42.0</td>\n",
              "      <td>11066.80</td>\n",
              "      <td>0</td>\n",
              "      <td>7.22</td>\n",
              "      <td>8.0</td>\n",
              "      <td>2013-08-30 07:00:40</td>\n",
              "      <td>10265 Elizabeth Mission Barkerburgh, AK 89518</td>\n",
              "      <td>Harvey LLC</td>\n",
              "      <td>1</td>\n",
              "    </tr>\n",
              "    <tr>\n",
              "      <th>1</th>\n",
              "      <td>Kevin Mueller</td>\n",
              "      <td>41.0</td>\n",
              "      <td>11916.22</td>\n",
              "      <td>0</td>\n",
              "      <td>6.50</td>\n",
              "      <td>11.0</td>\n",
              "      <td>2013-08-13 00:38:46</td>\n",
              "      <td>6157 Frank Gardens Suite 019 Carloshaven, RI 1...</td>\n",
              "      <td>Wilson PLC</td>\n",
              "      <td>1</td>\n",
              "    </tr>\n",
              "    <tr>\n",
              "      <th>2</th>\n",
              "      <td>Eric Lozano</td>\n",
              "      <td>38.0</td>\n",
              "      <td>12884.75</td>\n",
              "      <td>0</td>\n",
              "      <td>6.67</td>\n",
              "      <td>12.0</td>\n",
              "      <td>2016-06-29 06:20:07</td>\n",
              "      <td>1331 Keith Court Alyssahaven, DE 90114</td>\n",
              "      <td>Miller, Johnson and Wallace</td>\n",
              "      <td>1</td>\n",
              "    </tr>\n",
              "    <tr>\n",
              "      <th>3</th>\n",
              "      <td>Phillip White</td>\n",
              "      <td>42.0</td>\n",
              "      <td>8010.76</td>\n",
              "      <td>0</td>\n",
              "      <td>6.71</td>\n",
              "      <td>10.0</td>\n",
              "      <td>2014-04-22 12:43:12</td>\n",
              "      <td>13120 Daniel Mount Angelabury, WY 30645-4695</td>\n",
              "      <td>Smith Inc</td>\n",
              "      <td>1</td>\n",
              "    </tr>\n",
              "    <tr>\n",
              "      <th>4</th>\n",
              "      <td>Cynthia Norton</td>\n",
              "      <td>37.0</td>\n",
              "      <td>9191.58</td>\n",
              "      <td>0</td>\n",
              "      <td>5.56</td>\n",
              "      <td>9.0</td>\n",
              "      <td>2016-01-19 15:31:15</td>\n",
              "      <td>765 Tricia Row Karenshire, MH 71730</td>\n",
              "      <td>Love-Jones</td>\n",
              "      <td>1</td>\n",
              "    </tr>\n",
              "  </tbody>\n",
              "</table>\n",
              "</div>"
            ],
            "text/plain": [
              "              Names   Age  ...                      Company  Churn\n",
              "0  Cameron Williams  42.0  ...                   Harvey LLC      1\n",
              "1     Kevin Mueller  41.0  ...                   Wilson PLC      1\n",
              "2       Eric Lozano  38.0  ...  Miller, Johnson and Wallace      1\n",
              "3     Phillip White  42.0  ...                    Smith Inc      1\n",
              "4    Cynthia Norton  37.0  ...                   Love-Jones      1\n",
              "\n",
              "[5 rows x 10 columns]"
            ]
          },
          "metadata": {
            "tags": []
          },
          "execution_count": 23
        }
      ]
    },
    {
      "cell_type": "markdown",
      "metadata": {
        "id": "C497uuSrqEgs",
        "colab_type": "text"
      },
      "source": [
        "¿cuantas filas y columnas tienen los datos?\n"
      ]
    },
    {
      "cell_type": "code",
      "metadata": {
        "id": "VBaRrgh-qQx5",
        "colab_type": "code",
        "outputId": "22c37726-243d-4859-f4ba-e06a9f0c5bed",
        "colab": {
          "base_uri": "https://localhost:8080/",
          "height": 34
        }
      },
      "source": [
        "<FILL>"
      ],
      "execution_count": 24,
      "outputs": [
        {
          "output_type": "execute_result",
          "data": {
            "text/plain": [
              "(900, 10)"
            ]
          },
          "metadata": {
            "tags": []
          },
          "execution_count": 24
        }
      ]
    },
    {
      "cell_type": "markdown",
      "metadata": {
        "id": "cA8BIlbIrjwV",
        "colab_type": "text"
      },
      "source": [
        "Explore la cantidad de registros, la media, el desvio y los cuartiles de las columnas numéricas."
      ]
    },
    {
      "cell_type": "code",
      "metadata": {
        "id": "V3N_RLzdUeqS",
        "colab_type": "code",
        "outputId": "62529a9c-f6eb-4025-a596-e92d8c8183b2",
        "colab": {
          "base_uri": "https://localhost:8080/",
          "height": 297
        }
      },
      "source": [
        "<FILL>"
      ],
      "execution_count": 25,
      "outputs": [
        {
          "output_type": "execute_result",
          "data": {
            "text/html": [
              "<div>\n",
              "<style scoped>\n",
              "    .dataframe tbody tr th:only-of-type {\n",
              "        vertical-align: middle;\n",
              "    }\n",
              "\n",
              "    .dataframe tbody tr th {\n",
              "        vertical-align: top;\n",
              "    }\n",
              "\n",
              "    .dataframe thead th {\n",
              "        text-align: right;\n",
              "    }\n",
              "</style>\n",
              "<table border=\"1\" class=\"dataframe\">\n",
              "  <thead>\n",
              "    <tr style=\"text-align: right;\">\n",
              "      <th></th>\n",
              "      <th>Age</th>\n",
              "      <th>Total_Purchase</th>\n",
              "      <th>Account_Manager</th>\n",
              "      <th>Years</th>\n",
              "      <th>Num_Sites</th>\n",
              "      <th>Churn</th>\n",
              "    </tr>\n",
              "  </thead>\n",
              "  <tbody>\n",
              "    <tr>\n",
              "      <th>count</th>\n",
              "      <td>900.000000</td>\n",
              "      <td>900.000000</td>\n",
              "      <td>900.000000</td>\n",
              "      <td>900.000000</td>\n",
              "      <td>900.000000</td>\n",
              "      <td>900.000000</td>\n",
              "    </tr>\n",
              "    <tr>\n",
              "      <th>mean</th>\n",
              "      <td>41.816667</td>\n",
              "      <td>10062.824033</td>\n",
              "      <td>0.481111</td>\n",
              "      <td>5.273156</td>\n",
              "      <td>8.587778</td>\n",
              "      <td>0.166667</td>\n",
              "    </tr>\n",
              "    <tr>\n",
              "      <th>std</th>\n",
              "      <td>6.127560</td>\n",
              "      <td>2408.644532</td>\n",
              "      <td>0.499921</td>\n",
              "      <td>1.274449</td>\n",
              "      <td>1.764836</td>\n",
              "      <td>0.372885</td>\n",
              "    </tr>\n",
              "    <tr>\n",
              "      <th>min</th>\n",
              "      <td>22.000000</td>\n",
              "      <td>100.000000</td>\n",
              "      <td>0.000000</td>\n",
              "      <td>1.000000</td>\n",
              "      <td>3.000000</td>\n",
              "      <td>0.000000</td>\n",
              "    </tr>\n",
              "    <tr>\n",
              "      <th>25%</th>\n",
              "      <td>38.000000</td>\n",
              "      <td>8497.122500</td>\n",
              "      <td>0.000000</td>\n",
              "      <td>4.450000</td>\n",
              "      <td>7.000000</td>\n",
              "      <td>0.000000</td>\n",
              "    </tr>\n",
              "    <tr>\n",
              "      <th>50%</th>\n",
              "      <td>42.000000</td>\n",
              "      <td>10045.870000</td>\n",
              "      <td>0.000000</td>\n",
              "      <td>5.215000</td>\n",
              "      <td>8.000000</td>\n",
              "      <td>0.000000</td>\n",
              "    </tr>\n",
              "    <tr>\n",
              "      <th>75%</th>\n",
              "      <td>46.000000</td>\n",
              "      <td>11760.105000</td>\n",
              "      <td>1.000000</td>\n",
              "      <td>6.110000</td>\n",
              "      <td>10.000000</td>\n",
              "      <td>0.000000</td>\n",
              "    </tr>\n",
              "    <tr>\n",
              "      <th>max</th>\n",
              "      <td>65.000000</td>\n",
              "      <td>18026.010000</td>\n",
              "      <td>1.000000</td>\n",
              "      <td>9.150000</td>\n",
              "      <td>14.000000</td>\n",
              "      <td>1.000000</td>\n",
              "    </tr>\n",
              "  </tbody>\n",
              "</table>\n",
              "</div>"
            ],
            "text/plain": [
              "              Age  Total_Purchase  ...   Num_Sites       Churn\n",
              "count  900.000000      900.000000  ...  900.000000  900.000000\n",
              "mean    41.816667    10062.824033  ...    8.587778    0.166667\n",
              "std      6.127560     2408.644532  ...    1.764836    0.372885\n",
              "min     22.000000      100.000000  ...    3.000000    0.000000\n",
              "25%     38.000000     8497.122500  ...    7.000000    0.000000\n",
              "50%     42.000000    10045.870000  ...    8.000000    0.000000\n",
              "75%     46.000000    11760.105000  ...   10.000000    0.000000\n",
              "max     65.000000    18026.010000  ...   14.000000    1.000000\n",
              "\n",
              "[8 rows x 6 columns]"
            ]
          },
          "metadata": {
            "tags": []
          },
          "execution_count": 25
        }
      ]
    },
    {
      "cell_type": "markdown",
      "metadata": {
        "id": "NJgZ1f_OuhKa",
        "colab_type": "text"
      },
      "source": [
        "Liste las columnas del dataframe indicando el tipo de datos."
      ]
    },
    {
      "cell_type": "code",
      "metadata": {
        "id": "LnAtF0TAuHea",
        "colab_type": "code",
        "outputId": "22d0852d-3abf-43cc-a746-c0b8f37b4900",
        "colab": {
          "base_uri": "https://localhost:8080/",
          "height": 192
        }
      },
      "source": [
        "<FILL>"
      ],
      "execution_count": 26,
      "outputs": [
        {
          "output_type": "stream",
          "text": [
            "Columna Names tipo: object\n",
            "Columna Age tipo: float64\n",
            "Columna Total_Purchase tipo: float64\n",
            "Columna Account_Manager tipo: int64\n",
            "Columna Years tipo: float64\n",
            "Columna Num_Sites tipo: float64\n",
            "Columna Onboard_date tipo: datetime64[ns]\n",
            "Columna Location tipo: object\n",
            "Columna Company tipo: object\n",
            "Columna Churn tipo: int64\n"
          ],
          "name": "stdout"
        }
      ]
    },
    {
      "cell_type": "markdown",
      "metadata": {
        "id": "3nR1R8pusjtW",
        "colab_type": "text"
      },
      "source": [
        "## Preparación de los datos"
      ]
    },
    {
      "cell_type": "markdown",
      "metadata": {
        "id": "QPDFmaJAtED_",
        "colab_type": "text"
      },
      "source": [
        "Defina la columna objetivo a predecir en \"y\"  y  \"X\", el dataframe con las características que se utilizarán (sólo las numéricas y la fecha). Luego imprima las primeras filas del conjunto de datos totales con las características."
      ]
    },
    {
      "cell_type": "code",
      "metadata": {
        "id": "Ks1srCYyUjfE",
        "colab_type": "code",
        "outputId": "da2a814c-64b5-42e3-d7d1-503cbae037bd",
        "colab": {
          "base_uri": "https://localhost:8080/",
          "height": 262
        }
      },
      "source": [
        "# target object y\n",
        "y = <FILL>\n",
        "# Create X\n",
        "features=<FILL>\n",
        "X = <FILL>\n",
        "\n",
        "print(<FILL>)"
      ],
      "execution_count": 27,
      "outputs": [
        {
          "output_type": "stream",
          "text": [
            "<bound method NDFrame.head of       Age  Total_Purchase  ...  Num_Sites        Onboard_date\n",
            "0    42.0        11066.80  ...        8.0 2013-08-30 07:00:40\n",
            "1    41.0        11916.22  ...       11.0 2013-08-13 00:38:46\n",
            "2    38.0        12884.75  ...       12.0 2016-06-29 06:20:07\n",
            "3    42.0         8010.76  ...       10.0 2014-04-22 12:43:12\n",
            "4    37.0         9191.58  ...        9.0 2016-01-19 15:31:15\n",
            "..    ...             ...  ...        ...                 ...\n",
            "895  42.0        12800.82  ...        8.0 2007-12-01 13:29:34\n",
            "896  52.0         9893.92  ...        7.0 2008-12-28 15:23:58\n",
            "897  45.0        12056.18  ...        4.0 2014-06-20 05:10:09\n",
            "898  51.0         6517.93  ...       10.0 2012-05-30 00:15:43\n",
            "899  39.0         9315.60  ...       10.0 2010-09-25 12:16:08\n",
            "\n",
            "[900 rows x 6 columns]>\n"
          ],
          "name": "stdout"
        }
      ]
    },
    {
      "cell_type": "markdown",
      "metadata": {
        "id": "tGNs42qZ6RWk",
        "colab_type": "text"
      },
      "source": [
        "Convierta la columna timestamp en numérica, utilizanlo la función \"toordinal\""
      ]
    },
    {
      "cell_type": "code",
      "metadata": {
        "id": "TZP1NP2yv3bm",
        "colab_type": "code",
        "colab": {}
      },
      "source": [
        "from datetime import datetime\n",
        "<FILL>\n"
      ],
      "execution_count": 0,
      "outputs": []
    },
    {
      "cell_type": "markdown",
      "metadata": {
        "id": "Ey7qdY4U6wMm",
        "colab_type": "text"
      },
      "source": [
        "Revise los datos X"
      ]
    },
    {
      "cell_type": "code",
      "metadata": {
        "id": "RfCtZH6W2gb5",
        "colab_type": "code",
        "outputId": "f6c9705a-68d4-4d7e-a57e-11b011f771b8",
        "colab": {
          "base_uri": "https://localhost:8080/",
          "height": 262
        }
      },
      "source": [
        "print(<FILL>)"
      ],
      "execution_count": 29,
      "outputs": [
        {
          "output_type": "stream",
          "text": [
            "<bound method NDFrame.head of       Age  Total_Purchase  Account_Manager  Years  Num_Sites  Onboard_date\n",
            "0    42.0        11066.80                0   7.22        8.0        735110\n",
            "1    41.0        11916.22                0   6.50       11.0        735093\n",
            "2    38.0        12884.75                0   6.67       12.0        736144\n",
            "3    42.0         8010.76                0   6.71       10.0        735345\n",
            "4    37.0         9191.58                0   5.56        9.0        735982\n",
            "..    ...             ...              ...    ...        ...           ...\n",
            "895  42.0        12800.82                1   3.62        8.0        733011\n",
            "896  52.0         9893.92                0   6.91        7.0        733404\n",
            "897  45.0        12056.18                0   5.46        4.0        735404\n",
            "898  51.0         6517.93                1   5.47       10.0        734653\n",
            "899  39.0         9315.60                1   5.02       10.0        734040\n",
            "\n",
            "[900 rows x 6 columns]>\n"
          ],
          "name": "stdout"
        }
      ]
    },
    {
      "cell_type": "markdown",
      "metadata": {
        "id": "0TVFw7bywqHc",
        "colab_type": "text"
      },
      "source": [
        "Defina las particiones para entrenamiento y de validación con semila=1 y dejando un 20% de filas para test. Imprima cuantas filas utilizará para entrenamiento y cuantas para validar"
      ]
    },
    {
      "cell_type": "code",
      "metadata": {
        "id": "FE8WkGeZVaWI",
        "colab_type": "code",
        "colab": {}
      },
      "source": [
        "# Split into validation and training data\n",
        "train_X, val_X, train_y, val_y = <FILL>"
      ],
      "execution_count": 0,
      "outputs": []
    },
    {
      "cell_type": "code",
      "metadata": {
        "id": "Hcy3i2DNvWUH",
        "colab_type": "code",
        "outputId": "407d57e5-5e39-4bad-9a08-b855a5d33356",
        "colab": {
          "base_uri": "https://localhost:8080/",
          "height": 139
        }
      },
      "source": [
        "print(<FILL>)\n"
      ],
      "execution_count": 31,
      "outputs": [
        {
          "output_type": "stream",
          "text": [
            "Age                720\n",
            "Total_Purchase     720\n",
            "Account_Manager    720\n",
            "Years              720\n",
            "Num_Sites          720\n",
            "Onboard_date       720\n",
            "dtype: int64\n"
          ],
          "name": "stdout"
        }
      ]
    },
    {
      "cell_type": "code",
      "metadata": {
        "id": "f4RMHGjzxIo7",
        "colab_type": "code",
        "outputId": "8a993eec-fb02-4e22-af4d-1aaa6e07e39b",
        "colab": {
          "base_uri": "https://localhost:8080/",
          "height": 34
        }
      },
      "source": [
        "print(<FILL>)"
      ],
      "execution_count": 32,
      "outputs": [
        {
          "output_type": "stream",
          "text": [
            "180\n"
          ],
          "name": "stdout"
        }
      ]
    },
    {
      "cell_type": "markdown",
      "metadata": {
        "id": "gIFxf9nVxUlW",
        "colab_type": "text"
      },
      "source": [
        "## Definición del modelo"
      ]
    },
    {
      "cell_type": "markdown",
      "metadata": {
        "id": "9VbcjQ_LxgnU",
        "colab_type": "text"
      },
      "source": [
        "Defina el modelo utilizando LogisticRegression con semilla=1, solver=lgfgs y multi_class='multinomial'"
      ]
    },
    {
      "cell_type": "code",
      "metadata": {
        "id": "JQXRHYwAVw6i",
        "colab_type": "code",
        "colab": {}
      },
      "source": [
        "customer_churn = LogisticRegression(<FILL>)\n",
        "\n",
        "\n"
      ],
      "execution_count": 0,
      "outputs": []
    },
    {
      "cell_type": "markdown",
      "metadata": {
        "id": "bgp6FZWExy95",
        "colab_type": "text"
      },
      "source": [
        "Entrene el modelo "
      ]
    },
    {
      "cell_type": "code",
      "metadata": {
        "id": "0OPg5lRhx7hW",
        "colab_type": "code",
        "outputId": "98235b6c-2101-4d60-a63d-42db5991884a",
        "colab": {
          "base_uri": "https://localhost:8080/",
          "height": 104
        }
      },
      "source": [
        "# Fit Model\n",
        "customer_churn.<FILL>"
      ],
      "execution_count": 34,
      "outputs": [
        {
          "output_type": "execute_result",
          "data": {
            "text/plain": [
              "LogisticRegression(C=1.0, class_weight=None, dual=False, fit_intercept=True,\n",
              "                   intercept_scaling=1, l1_ratio=None, max_iter=100,\n",
              "                   multi_class='multinomial', n_jobs=None, penalty='l2',\n",
              "                   random_state=1, solver='lbfgs', tol=0.0001, verbose=0,\n",
              "                   warm_start=False)"
            ]
          },
          "metadata": {
            "tags": []
          },
          "execution_count": 34
        }
      ]
    },
    {
      "cell_type": "markdown",
      "metadata": {
        "id": "1HBu_ZiAyfO9",
        "colab_type": "text"
      },
      "source": [
        "## Predicción y validación del modelo "
      ]
    },
    {
      "cell_type": "markdown",
      "metadata": {
        "id": "bccY66GfzJCH",
        "colab_type": "text"
      },
      "source": [
        "Utilice el modelo para realizar las predicciones con los datos de validación y calcule el valor MAE (mean absolute error) obtenido sin haber indicado la cantidad de hojas (max_leaf_nodes)."
      ]
    },
    {
      "cell_type": "code",
      "metadata": {
        "id": "-hGydPMH0Ohd",
        "colab_type": "code",
        "outputId": "f3a31cc6-a23d-4eeb-808d-7a3757c1fdac",
        "colab": {
          "base_uri": "https://localhost:8080/",
          "height": 52
        }
      },
      "source": [
        "from sklearn import metrics\n",
        "val_predictions = <FILL>\n",
        "score=round(<FILL>)\n",
        "print(\"Score datos validación %f\" %score)\n",
        "print(\"Accuracy:\",<FILL>)"
      ],
      "execution_count": 35,
      "outputs": [
        {
          "output_type": "stream",
          "text": [
            "Score datos validación 0.822200\n",
            "Accuracy: 0.8222222222222222\n"
          ],
          "name": "stdout"
        }
      ]
    },
    {
      "cell_type": "code",
      "metadata": {
        "id": "Gf5WzveI8jM5",
        "colab_type": "code",
        "colab": {}
      },
      "source": [
        "assert round(score*100)==82,\"Error en resultado de score\""
      ],
      "execution_count": 0,
      "outputs": []
    },
    {
      "cell_type": "markdown",
      "metadata": {
        "id": "wwX9TUFbb2h3",
        "colab_type": "text"
      },
      "source": [
        "Calcule los resultados del modelo utilizando random forest con 1000 estimadores y max_depth=10, y semilla=1"
      ]
    },
    {
      "cell_type": "code",
      "metadata": {
        "id": "pomaEc5mA0_1",
        "colab_type": "code",
        "outputId": "b3e55de2-0644-407d-a614-6626176ab681",
        "colab": {
          "base_uri": "https://localhost:8080/",
          "height": 34
        }
      },
      "source": [
        "RF = <FILL>\n",
        "RF.<FILL>\n",
        "round(RF.score(<FILL>)\n"
      ],
      "execution_count": 37,
      "outputs": [
        {
          "output_type": "execute_result",
          "data": {
            "text/plain": [
              "0.8667"
            ]
          },
          "metadata": {
            "tags": []
          },
          "execution_count": 37
        }
      ]
    },
    {
      "cell_type": "markdown",
      "metadata": {
        "id": "1JpqwNZzCPee",
        "colab_type": "text"
      },
      "source": [
        "Calcule los resultados del modelo utilizando Multi-Class Classification utilizando solver='lbfgs'"
      ]
    },
    {
      "cell_type": "code",
      "metadata": {
        "id": "VRCF0YLQBmmG",
        "colab_type": "code",
        "outputId": "987b8f8c-fffb-4cbe-c6c5-438f48ef1be7",
        "colab": {
          "base_uri": "https://localhost:8080/",
          "height": 34
        }
      },
      "source": [
        "NN = <FILL>\n",
        "NN.<FILL>\n",
        "round(<FILL>)"
      ],
      "execution_count": 38,
      "outputs": [
        {
          "output_type": "execute_result",
          "data": {
            "text/plain": [
              "0.8222"
            ]
          },
          "metadata": {
            "tags": []
          },
          "execution_count": 38
        }
      ]
    },
    {
      "cell_type": "markdown",
      "metadata": {
        "id": "yDsExLOsCjIg",
        "colab_type": "text"
      },
      "source": [
        "## Resultados finales"
      ]
    },
    {
      "cell_type": "markdown",
      "metadata": {
        "id": "7kTeLLwu1s2O",
        "colab_type": "text"
      },
      "source": [
        "Utilice el mejor modelo obtenido y calcule el score con todos los datos "
      ]
    },
    {
      "cell_type": "code",
      "metadata": {
        "id": "evdY3sFR1_dX",
        "colab_type": "code",
        "outputId": "c0d1f489-2a81-4ac3-9d8a-d40b618a501e",
        "colab": {
          "base_uri": "https://localhost:8080/",
          "height": 34
        }
      },
      "source": [
        "<FILL>\n",
        "score=<FILL>\n",
        "round(score,2)\n"
      ],
      "execution_count": 39,
      "outputs": [
        {
          "output_type": "execute_result",
          "data": {
            "text/plain": [
              "0.97"
            ]
          },
          "metadata": {
            "tags": []
          },
          "execution_count": 39
        }
      ]
    },
    {
      "cell_type": "code",
      "metadata": {
        "id": "pJ_q9zVUAkPY",
        "colab_type": "code",
        "colab": {}
      },
      "source": [
        "assert round(score,2)*100==97,\"Error en resultado de porcentaje de error\""
      ],
      "execution_count": 0,
      "outputs": []
    }
  ]
}