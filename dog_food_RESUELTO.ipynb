{
  "nbformat": 4,
  "nbformat_minor": 0,
  "metadata": {
    "colab": {
      "name": "dog_food_RESUELTO.ipynb",
      "provenance": [],
      "collapsed_sections": []
    },
    "kernelspec": {
      "name": "python3",
      "display_name": "Python 3"
    }
  },
  "cells": [
    {
      "cell_type": "markdown",
      "metadata": {
        "id": "DHnpKLcboJZq",
        "colab_type": "text"
      },
      "source": [
        "## **Modelo de Clasificación**\n",
        "El objetivo de este ejercicio es encontrar un modelo que permita predecir si se echará o no a perder la comida de los perros dependiendo de 4 factores.\n",
        "\n",
        "https://es.wikipedia.org/wiki/Tasa_de_cancelaci%C3%B3n_de_clientes\n",
        "\n",
        "Utilizaremos los modelos de clasificación RandomForest, Regresion Logística,  y clasificación MultiClass. \n",
        "\n",
        "https://scikit-learn.org/stable/modules/generated/sklearn.ensemble.RandomForestClassifier.html\n",
        "\n",
        "https://scikit-learn.org/stable/modules/generated/sklearn.linear_model.LogisticRegression.html\n",
        "https://scikit-learn.org/stable/modules/generated/sklearn.neural_network.MLPClassifier.html"
      ]
    },
    {
      "cell_type": "code",
      "metadata": {
        "id": "7spIHKpmm8V5",
        "colab_type": "code",
        "colab": {}
      },
      "source": [
        "import pandas as pd\n",
        "from sklearn.ensemble import RandomForestClassifier\n",
        "from sklearn.neural_network import MLPClassifier\n",
        "from sklearn.metrics import mean_absolute_error\n",
        "from sklearn.model_selection import train_test_split\n",
        "from sklearn.linear_model import LogisticRegression\n",
        "from sklearn.preprocessing import LabelEncoder\n",
        "from sklearn import metrics\n",
        "\n",
        "\n"
      ],
      "execution_count": 0,
      "outputs": []
    },
    {
      "cell_type": "markdown",
      "metadata": {
        "id": "ewjkVV_XpL3J",
        "colab_type": "text"
      },
      "source": [
        "## Lectura de datos y exploración"
      ]
    },
    {
      "cell_type": "markdown",
      "metadata": {
        "id": "sb_yfojaozWr",
        "colab_type": "text"
      },
      "source": [
        "Leer el fichero de datos \"dog_food.csv\". "
      ]
    },
    {
      "cell_type": "code",
      "metadata": {
        "id": "vGXVwsmgTZbO",
        "colab_type": "code",
        "colab": {}
      },
      "source": [
        "file_path = 'dog_food.csv'\n",
        "data = pd.read_csv(file_path)"
      ],
      "execution_count": 0,
      "outputs": []
    },
    {
      "cell_type": "markdown",
      "metadata": {
        "id": "plmniYX2pvUu",
        "colab_type": "text"
      },
      "source": [
        "Listar las primeras filas del fichero para ver los datos"
      ]
    },
    {
      "cell_type": "code",
      "metadata": {
        "id": "msZ1la2yUWTl",
        "colab_type": "code",
        "outputId": "0c79ab94-647d-4473-aae6-3d2aa4697ffc",
        "colab": {
          "base_uri": "https://localhost:8080/",
          "height": 204
        }
      },
      "source": [
        "data.head()"
      ],
      "execution_count": 0,
      "outputs": [
        {
          "output_type": "execute_result",
          "data": {
            "text/html": [
              "<div>\n",
              "<style scoped>\n",
              "    .dataframe tbody tr th:only-of-type {\n",
              "        vertical-align: middle;\n",
              "    }\n",
              "\n",
              "    .dataframe tbody tr th {\n",
              "        vertical-align: top;\n",
              "    }\n",
              "\n",
              "    .dataframe thead th {\n",
              "        text-align: right;\n",
              "    }\n",
              "</style>\n",
              "<table border=\"1\" class=\"dataframe\">\n",
              "  <thead>\n",
              "    <tr style=\"text-align: right;\">\n",
              "      <th></th>\n",
              "      <th>A</th>\n",
              "      <th>B</th>\n",
              "      <th>C</th>\n",
              "      <th>D</th>\n",
              "      <th>Spoiled</th>\n",
              "    </tr>\n",
              "  </thead>\n",
              "  <tbody>\n",
              "    <tr>\n",
              "      <th>0</th>\n",
              "      <td>4</td>\n",
              "      <td>2</td>\n",
              "      <td>12.0</td>\n",
              "      <td>3</td>\n",
              "      <td>1.0</td>\n",
              "    </tr>\n",
              "    <tr>\n",
              "      <th>1</th>\n",
              "      <td>5</td>\n",
              "      <td>6</td>\n",
              "      <td>12.0</td>\n",
              "      <td>7</td>\n",
              "      <td>1.0</td>\n",
              "    </tr>\n",
              "    <tr>\n",
              "      <th>2</th>\n",
              "      <td>6</td>\n",
              "      <td>2</td>\n",
              "      <td>13.0</td>\n",
              "      <td>6</td>\n",
              "      <td>1.0</td>\n",
              "    </tr>\n",
              "    <tr>\n",
              "      <th>3</th>\n",
              "      <td>4</td>\n",
              "      <td>2</td>\n",
              "      <td>12.0</td>\n",
              "      <td>1</td>\n",
              "      <td>1.0</td>\n",
              "    </tr>\n",
              "    <tr>\n",
              "      <th>4</th>\n",
              "      <td>4</td>\n",
              "      <td>2</td>\n",
              "      <td>12.0</td>\n",
              "      <td>3</td>\n",
              "      <td>1.0</td>\n",
              "    </tr>\n",
              "  </tbody>\n",
              "</table>\n",
              "</div>"
            ],
            "text/plain": [
              "   A  B     C  D  Spoiled\n",
              "0  4  2  12.0  3      1.0\n",
              "1  5  6  12.0  7      1.0\n",
              "2  6  2  13.0  6      1.0\n",
              "3  4  2  12.0  1      1.0\n",
              "4  4  2  12.0  3      1.0"
            ]
          },
          "metadata": {
            "tags": []
          },
          "execution_count": 283
        }
      ]
    },
    {
      "cell_type": "markdown",
      "metadata": {
        "id": "C497uuSrqEgs",
        "colab_type": "text"
      },
      "source": [
        "¿cuantas filas y columnas tienen los datos?\n"
      ]
    },
    {
      "cell_type": "code",
      "metadata": {
        "id": "VBaRrgh-qQx5",
        "colab_type": "code",
        "outputId": "272eadf8-da40-4bea-f626-8d3a8d344b4e",
        "colab": {
          "base_uri": "https://localhost:8080/",
          "height": 34
        }
      },
      "source": [
        "data.shape"
      ],
      "execution_count": 0,
      "outputs": [
        {
          "output_type": "execute_result",
          "data": {
            "text/plain": [
              "(490, 5)"
            ]
          },
          "metadata": {
            "tags": []
          },
          "execution_count": 284
        }
      ]
    },
    {
      "cell_type": "markdown",
      "metadata": {
        "id": "cA8BIlbIrjwV",
        "colab_type": "text"
      },
      "source": [
        "Explore la cantidad de registros, la media, el desvio y los cuartiles de las columnas numéricas."
      ]
    },
    {
      "cell_type": "code",
      "metadata": {
        "id": "V3N_RLzdUeqS",
        "colab_type": "code",
        "outputId": "37f17ef1-3f61-496f-990e-222418d6f65b",
        "colab": {
          "base_uri": "https://localhost:8080/",
          "height": 297
        }
      },
      "source": [
        "data.describe()"
      ],
      "execution_count": 0,
      "outputs": [
        {
          "output_type": "execute_result",
          "data": {
            "text/html": [
              "<div>\n",
              "<style scoped>\n",
              "    .dataframe tbody tr th:only-of-type {\n",
              "        vertical-align: middle;\n",
              "    }\n",
              "\n",
              "    .dataframe tbody tr th {\n",
              "        vertical-align: top;\n",
              "    }\n",
              "\n",
              "    .dataframe thead th {\n",
              "        text-align: right;\n",
              "    }\n",
              "</style>\n",
              "<table border=\"1\" class=\"dataframe\">\n",
              "  <thead>\n",
              "    <tr style=\"text-align: right;\">\n",
              "      <th></th>\n",
              "      <th>A</th>\n",
              "      <th>B</th>\n",
              "      <th>C</th>\n",
              "      <th>D</th>\n",
              "      <th>Spoiled</th>\n",
              "    </tr>\n",
              "  </thead>\n",
              "  <tbody>\n",
              "    <tr>\n",
              "      <th>count</th>\n",
              "      <td>490.000000</td>\n",
              "      <td>490.000000</td>\n",
              "      <td>490.000000</td>\n",
              "      <td>490.000000</td>\n",
              "      <td>490.000000</td>\n",
              "    </tr>\n",
              "    <tr>\n",
              "      <th>mean</th>\n",
              "      <td>5.534694</td>\n",
              "      <td>5.504082</td>\n",
              "      <td>9.126531</td>\n",
              "      <td>5.579592</td>\n",
              "      <td>0.285714</td>\n",
              "    </tr>\n",
              "    <tr>\n",
              "      <th>std</th>\n",
              "      <td>2.951520</td>\n",
              "      <td>2.853797</td>\n",
              "      <td>2.055545</td>\n",
              "      <td>2.854837</td>\n",
              "      <td>0.452216</td>\n",
              "    </tr>\n",
              "    <tr>\n",
              "      <th>min</th>\n",
              "      <td>1.000000</td>\n",
              "      <td>1.000000</td>\n",
              "      <td>5.000000</td>\n",
              "      <td>1.000000</td>\n",
              "      <td>0.000000</td>\n",
              "    </tr>\n",
              "    <tr>\n",
              "      <th>25%</th>\n",
              "      <td>3.000000</td>\n",
              "      <td>3.000000</td>\n",
              "      <td>8.000000</td>\n",
              "      <td>3.000000</td>\n",
              "      <td>0.000000</td>\n",
              "    </tr>\n",
              "    <tr>\n",
              "      <th>50%</th>\n",
              "      <td>5.000000</td>\n",
              "      <td>6.000000</td>\n",
              "      <td>9.000000</td>\n",
              "      <td>6.000000</td>\n",
              "      <td>0.000000</td>\n",
              "    </tr>\n",
              "    <tr>\n",
              "      <th>75%</th>\n",
              "      <td>8.000000</td>\n",
              "      <td>8.000000</td>\n",
              "      <td>11.000000</td>\n",
              "      <td>8.000000</td>\n",
              "      <td>1.000000</td>\n",
              "    </tr>\n",
              "    <tr>\n",
              "      <th>max</th>\n",
              "      <td>10.000000</td>\n",
              "      <td>10.000000</td>\n",
              "      <td>14.000000</td>\n",
              "      <td>10.000000</td>\n",
              "      <td>1.000000</td>\n",
              "    </tr>\n",
              "  </tbody>\n",
              "</table>\n",
              "</div>"
            ],
            "text/plain": [
              "                A           B           C           D     Spoiled\n",
              "count  490.000000  490.000000  490.000000  490.000000  490.000000\n",
              "mean     5.534694    5.504082    9.126531    5.579592    0.285714\n",
              "std      2.951520    2.853797    2.055545    2.854837    0.452216\n",
              "min      1.000000    1.000000    5.000000    1.000000    0.000000\n",
              "25%      3.000000    3.000000    8.000000    3.000000    0.000000\n",
              "50%      5.000000    6.000000    9.000000    6.000000    0.000000\n",
              "75%      8.000000    8.000000   11.000000    8.000000    1.000000\n",
              "max     10.000000   10.000000   14.000000   10.000000    1.000000"
            ]
          },
          "metadata": {
            "tags": []
          },
          "execution_count": 285
        }
      ]
    },
    {
      "cell_type": "markdown",
      "metadata": {
        "id": "NJgZ1f_OuhKa",
        "colab_type": "text"
      },
      "source": [
        "Liste las columnas del dataframe indicando el tipo de datos."
      ]
    },
    {
      "cell_type": "code",
      "metadata": {
        "id": "LnAtF0TAuHea",
        "colab_type": "code",
        "outputId": "c16bc936-166b-4d3b-ec47-9cf077f2fb51",
        "colab": {
          "base_uri": "https://localhost:8080/",
          "height": 104
        }
      },
      "source": [
        "for i in data.columns:\n",
        "  print(\"Columna {} tipo: {}\".format(i,data[i].dtype))"
      ],
      "execution_count": 0,
      "outputs": [
        {
          "output_type": "stream",
          "text": [
            "Columna A tipo: int64\n",
            "Columna B tipo: int64\n",
            "Columna C tipo: float64\n",
            "Columna D tipo: int64\n",
            "Columna Spoiled tipo: float64\n"
          ],
          "name": "stdout"
        }
      ]
    },
    {
      "cell_type": "markdown",
      "metadata": {
        "id": "3nR1R8pusjtW",
        "colab_type": "text"
      },
      "source": [
        "## Preparación de los datos"
      ]
    },
    {
      "cell_type": "markdown",
      "metadata": {
        "id": "QPDFmaJAtED_",
        "colab_type": "text"
      },
      "source": [
        "Defina la columna objetivo a predecir en \"y\"  y  \"X\", el dataframe con las características que se utilizarán (sólo las numéricas y la fecha)"
      ]
    },
    {
      "cell_type": "code",
      "metadata": {
        "id": "Ks1srCYyUjfE",
        "colab_type": "code",
        "outputId": "705a79d4-42e5-4cdb-c1cb-6c16ae4bc56d",
        "colab": {
          "base_uri": "https://localhost:8080/",
          "height": 262
        }
      },
      "source": [
        "# target object y\n",
        "y = data[\"Spoiled\"]\n",
        "# Create X\n",
        "features=['A','B','C','D']\n",
        "X = data[features]\n",
        "\n",
        "print(X.head)"
      ],
      "execution_count": 0,
      "outputs": [
        {
          "output_type": "stream",
          "text": [
            "<bound method NDFrame.head of      A  B     C   D\n",
            "0    4  2  12.0   3\n",
            "1    5  6  12.0   7\n",
            "2    6  2  13.0   6\n",
            "3    4  2  12.0   1\n",
            "4    4  2  12.0   3\n",
            "..  .. ..   ...  ..\n",
            "485  8  3   6.0   6\n",
            "486  6  4   9.0  10\n",
            "487  1  3   8.0   3\n",
            "488  6  6   8.0   3\n",
            "489  1  9   7.0   4\n",
            "\n",
            "[490 rows x 4 columns]>\n"
          ],
          "name": "stdout"
        }
      ]
    },
    {
      "cell_type": "markdown",
      "metadata": {
        "id": "Ey7qdY4U6wMm",
        "colab_type": "text"
      },
      "source": [
        "Revise los datos X"
      ]
    },
    {
      "cell_type": "markdown",
      "metadata": {
        "id": "0TVFw7bywqHc",
        "colab_type": "text"
      },
      "source": [
        "Defina las particiones para entrenamiento y de validación con semila=1 y dejando un 20% de filas para test. Imprima cuantas filas utilizará para entrenamiento y cuantas para validar"
      ]
    },
    {
      "cell_type": "code",
      "metadata": {
        "id": "FE8WkGeZVaWI",
        "colab_type": "code",
        "colab": {}
      },
      "source": [
        "# Split into validation and training data\n",
        "train_X, val_X, train_y, val_y = train_test_split(X, y, random_state=1, test_size=0.2)"
      ],
      "execution_count": 0,
      "outputs": []
    },
    {
      "cell_type": "code",
      "metadata": {
        "id": "Hcy3i2DNvWUH",
        "colab_type": "code",
        "outputId": "217918d0-28b1-4113-a885-47b7c4df65b0",
        "colab": {
          "base_uri": "https://localhost:8080/",
          "height": 139
        }
      },
      "source": [
        "print(train_X.count())\n"
      ],
      "execution_count": 0,
      "outputs": [
        {
          "output_type": "stream",
          "text": [
            "Age                720\n",
            "Total_Purchase     720\n",
            "Account_Manager    720\n",
            "Years              720\n",
            "Num_Sites          720\n",
            "Onboard_date       720\n",
            "dtype: int64\n"
          ],
          "name": "stdout"
        }
      ]
    },
    {
      "cell_type": "markdown",
      "metadata": {
        "id": "JwKS0G2FxDsg",
        "colab_type": "text"
      },
      "source": [
        ""
      ]
    },
    {
      "cell_type": "code",
      "metadata": {
        "id": "f4RMHGjzxIo7",
        "colab_type": "code",
        "outputId": "d91b1ae9-865e-4a19-faae-b83dc4e7dbfa",
        "colab": {
          "base_uri": "https://localhost:8080/",
          "height": 34
        }
      },
      "source": [
        "print(val_y.count())"
      ],
      "execution_count": 0,
      "outputs": [
        {
          "output_type": "stream",
          "text": [
            "98\n"
          ],
          "name": "stdout"
        }
      ]
    },
    {
      "cell_type": "markdown",
      "metadata": {
        "id": "gIFxf9nVxUlW",
        "colab_type": "text"
      },
      "source": [
        "## Definición del modelo"
      ]
    },
    {
      "cell_type": "markdown",
      "metadata": {
        "id": "9VbcjQ_LxgnU",
        "colab_type": "text"
      },
      "source": [
        "Defina el modelo utilizando un arbol de decisión con semilla=1"
      ]
    },
    {
      "cell_type": "code",
      "metadata": {
        "id": "JQXRHYwAVw6i",
        "colab_type": "code",
        "colab": {}
      },
      "source": [
        "dog_food = LogisticRegression(random_state=1, solver='lbfgs', multi_class='multinomial')\n",
        "\n",
        "\n"
      ],
      "execution_count": 0,
      "outputs": []
    },
    {
      "cell_type": "markdown",
      "metadata": {
        "id": "bgp6FZWExy95",
        "colab_type": "text"
      },
      "source": [
        "Entrene el modelo "
      ]
    },
    {
      "cell_type": "code",
      "metadata": {
        "id": "0OPg5lRhx7hW",
        "colab_type": "code",
        "outputId": "ee74803c-f7b2-4e9e-e73c-f0f3e96454ed",
        "colab": {
          "base_uri": "https://localhost:8080/",
          "height": 104
        }
      },
      "source": [
        "# Fit Model\n",
        "dog_food.fit(train_X, train_y)"
      ],
      "execution_count": 0,
      "outputs": [
        {
          "output_type": "execute_result",
          "data": {
            "text/plain": [
              "LogisticRegression(C=1.0, class_weight=None, dual=False, fit_intercept=True,\n",
              "                   intercept_scaling=1, l1_ratio=None, max_iter=100,\n",
              "                   multi_class='multinomial', n_jobs=None, penalty='l2',\n",
              "                   random_state=1, solver='lbfgs', tol=0.0001, verbose=0,\n",
              "                   warm_start=False)"
            ]
          },
          "metadata": {
            "tags": []
          },
          "execution_count": 293
        }
      ]
    },
    {
      "cell_type": "markdown",
      "metadata": {
        "id": "1HBu_ZiAyfO9",
        "colab_type": "text"
      },
      "source": [
        "## Predicción y validación del modelo "
      ]
    },
    {
      "cell_type": "markdown",
      "metadata": {
        "id": "bccY66GfzJCH",
        "colab_type": "text"
      },
      "source": [
        "Utilice el modelo para realizar las predicciones con los datos de validación y calcule el valor \"score\" o \"accuracy\" "
      ]
    },
    {
      "cell_type": "code",
      "metadata": {
        "id": "-hGydPMH0Ohd",
        "colab_type": "code",
        "outputId": "6c777497-188a-4d41-c4d2-06aab498c4a8",
        "colab": {
          "base_uri": "https://localhost:8080/",
          "height": 52
        }
      },
      "source": [
        "from sklearn import metrics\n",
        "val_predictions = dog_food.predict(val_X)\n",
        "score=round(dog_food.score(val_X,val_y), 4)\n",
        "print(\"Score datos validación %f\" %score)\n",
        "print(\"Accuracy:\",metrics.accuracy_score(val_y, val_predictions))"
      ],
      "execution_count": 0,
      "outputs": [
        {
          "output_type": "stream",
          "text": [
            "Score datos validación 0.979600\n",
            "Accuracy: 0.9795918367346939\n"
          ],
          "name": "stdout"
        }
      ]
    },
    {
      "cell_type": "code",
      "metadata": {
        "id": "Gf5WzveI8jM5",
        "colab_type": "code",
        "colab": {}
      },
      "source": [
        "assert round(score*100)==98,\"Error en resultado de score\""
      ],
      "execution_count": 0,
      "outputs": []
    },
    {
      "cell_type": "code",
      "metadata": {
        "id": "cPnlDmMb9Bcg",
        "colab_type": "code",
        "colab": {}
      },
      "source": [
        "Calcule los resultados utilizando random forest con 1000 estimadores y max_depth=10, y semilla=1"
      ],
      "execution_count": 0,
      "outputs": []
    },
    {
      "cell_type": "code",
      "metadata": {
        "id": "pomaEc5mA0_1",
        "colab_type": "code",
        "outputId": "af75b25a-0a34-4dd9-8b7a-f7a0c63f3bdd",
        "colab": {
          "base_uri": "https://localhost:8080/",
          "height": 34
        }
      },
      "source": [
        "RF = RandomForestClassifier(n_estimators=1000, max_depth=10, random_state=1).fit(train_X, train_y)\n",
        "RF.predict(val_X)\n",
        "round(RF.score(val_X,val_y), 4)\n"
      ],
      "execution_count": 0,
      "outputs": [
        {
          "output_type": "execute_result",
          "data": {
            "text/plain": [
              "0.9796"
            ]
          },
          "metadata": {
            "tags": []
          },
          "execution_count": 296
        }
      ]
    },
    {
      "cell_type": "markdown",
      "metadata": {
        "id": "1JpqwNZzCPee",
        "colab_type": "text"
      },
      "source": [
        "Calcule los resultados del modelo utilizando Multi-Class Classification utilizando solver='lbfgs' y un max_iter=1000"
      ]
    },
    {
      "cell_type": "code",
      "metadata": {
        "id": "VRCF0YLQBmmG",
        "colab_type": "code",
        "outputId": "bc90afc0-7395-450a-badd-5b7eddcf8e0e",
        "colab": {
          "base_uri": "https://localhost:8080/",
          "height": 34
        }
      },
      "source": [
        "NN = MLPClassifier(solver='lbfgs', random_state=1, max_iter=1000).fit(train_X, train_y)\n",
        "NN.predict(val_X)\n",
        "round(NN.score(val_X,val_y), 4)"
      ],
      "execution_count": 0,
      "outputs": [
        {
          "output_type": "execute_result",
          "data": {
            "text/plain": [
              "0.9592"
            ]
          },
          "metadata": {
            "tags": []
          },
          "execution_count": 298
        }
      ]
    },
    {
      "cell_type": "markdown",
      "metadata": {
        "id": "yDsExLOsCjIg",
        "colab_type": "text"
      },
      "source": [
        "## Resultados finales"
      ]
    },
    {
      "cell_type": "markdown",
      "metadata": {
        "id": "7kTeLLwu1s2O",
        "colab_type": "text"
      },
      "source": [
        "Utilice el mejor modelo obtenido y calcule el score con todos los datos "
      ]
    },
    {
      "cell_type": "code",
      "metadata": {
        "id": "evdY3sFR1_dX",
        "colab_type": "code",
        "outputId": "31418373-e0a4-4d0a-9f20-f6160d0d547e",
        "colab": {
          "base_uri": "https://localhost:8080/",
          "height": 34
        }
      },
      "source": [
        "RF.predict(X)\n",
        "score=round(RF.score(X,y), 4)\n",
        "round(score,2)\n"
      ],
      "execution_count": 0,
      "outputs": [
        {
          "output_type": "execute_result",
          "data": {
            "text/plain": [
              "0.99"
            ]
          },
          "metadata": {
            "tags": []
          },
          "execution_count": 299
        }
      ]
    },
    {
      "cell_type": "code",
      "metadata": {
        "id": "pJ_q9zVUAkPY",
        "colab_type": "code",
        "colab": {}
      },
      "source": [
        "assert round(score,2)*100==99,\"Error en resultado de porcentaje de error\""
      ],
      "execution_count": 0,
      "outputs": []
    }
  ]
}